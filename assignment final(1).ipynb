{
 "cells": [
  {
   "cell_type": "markdown",
   "id": "2ca14cdc",
   "metadata": {},
   "source": [
    "# SECTION 1"
   ]
  },
  {
   "cell_type": "markdown",
   "id": "2a0cdfe1",
   "metadata": {},
   "source": [
    "## 1.A statistics test was conducted for 10 learners in a class. The mean of their score is 85 and the variance of the score is zero. What can you interpret about the score obtained by all learners?"
   ]
  },
  {
   "cell_type": "markdown",
   "id": "70fa5392",
   "metadata": {},
   "source": [
    " if the mean of the scores obtained by 10 learners in a statistics test is 85, and the variance of the scores is zero, it means that all 10 learners achieved the same score of 85 on the test. There is no variability or spread in their scores; they all performed uniformly and consistently, with no deviation from the mean score. This scenario suggests either an extremely easy test, a test designed to yield consistent results, or a lack of differentiation in the learners' abilities on this particular test. Zero variance is a rare occurrence in real-world datasets, indicating perfect uniformity in the values being measured."
   ]
  },
  {
   "cell_type": "markdown",
   "id": "3785905d",
   "metadata": {},
   "source": [
    "## 2.In a residential locality, the mean size of the house is 2224 square feet and the median value of the house is 1500 square feet. What can you interpret about the skewness in the distribution of house size?Are there more bigger or smaller houses in the residential locality?"
   ]
  },
  {
   "cell_type": "markdown",
   "id": "952f3a56",
   "metadata": {},
   "source": [
    "In residential locality where the mean house size is 2224 square feet and the median house size is 1500 square feet, we can infer that the distribution of house sizes is right-skewed or positively skewed. This indicates that there are relatively few very large houses in the area, which significantly influences the mean and causes it to be higher than the median. Most houses in the locality are smaller and clustered around or below the median size, implying that there are more smaller houses than larger ones in the residential area. The presence of outliers in the form of larger houses contributes to the right-skewed distribution."
   ]
  },
  {
   "cell_type": "markdown",
   "id": "84fc6166",
   "metadata": {},
   "source": [
    "## 3.The following table shows the mean and variance of the expenditure for two groups of people.You want to compare the variability in expenditure for both groups with respect to their mean.Which statistical measure would you use to evaluate the variability in expenditure? Please provide an explanation for your answer."
   ]
  },
  {
   "cell_type": "markdown",
   "id": "bb6b548f",
   "metadata": {},
   "source": [
    "     expenditure  group 1  group 2\n",
    "    0. mean       $50000   $40000\n",
    "    1. Std        $125000  $10000\n",
    "    "
   ]
  },
  {
   "cell_type": "markdown",
   "id": "91dc9413",
   "metadata": {},
   "source": [
    "To evaluate the variability in expenditure for both groups with respect to their mean, you would typically use a statistical measure called the coefficient of variation (CV). The coefficient of variation is a dimensionless (unitless) measure that provides insight into the relative variability of two or more datasets with different means. It is often expressed as a percentage.\n",
    "\n",
    "The formula for calculating the coefficient of variation (CV) is as follows:\n",
    "\n",
    "\n",
    "cv=(Standard Deviation/Mean)*100%\n"
   ]
  },
  {
   "cell_type": "markdown",
   "id": "518146ea",
   "metadata": {},
   "source": [
    "The means and standard deviations of expenditures for both Group 1 and Group 2. With this information, we can calculate the coefficient of variation (CV) for each group to compare their relative variability with respect to their mean.\n",
    "\n",
    "For Group 1:\n",
    "\n",
    "Mean (Group 1) = $50,000\n",
    "Standard Deviation (Group 1) = $125,000\n",
    "CV (Group 1) = (Standard Deviation / Mean) * 100% = ($125,000 / $50,000) * 100% = 250%\n",
    "\n",
    "For Group 2:\n",
    "\n",
    "Mean (Group 2) = $40,000\n",
    "Standard Deviation (Group 2) = $10,000\n",
    "CV (Group 2) = (Standard Deviation / Mean) * 100% = ($10,000 / $40,000) * 100% = 25%\n",
    "\n",
    "Now, we have calculated the coefficient of variation for both groups:\n",
    "\n",
    "CV (Group 1) = 250%\n",
    "CV (Group 2) = 25%\n",
    "Comparing the CVs:\n",
    "\n",
    "Group 1 has a CV of 250%, indicating that the standard deviation is much larger relative to the mean. This suggests high relative variability in expenditure compared to the mean for Group 1.\n",
    "Group 2 has a CV of 25%, indicating that the standard deviation is relatively small compared to the mean. This suggests lower relative variability in expenditure compared to the mean for Group 2.\n",
    "In summary, based on the coefficient of variation calculations, Group 1 exhibits significantly higher relative variability in expenditure compared to its mean compared to Group 2. The CV is a useful measure for comparing the relative variability of different datasets with different means.\n",
    "\n",
    "\n",
    "\n"
   ]
  },
  {
   "cell_type": "markdown",
   "id": "411abb0c",
   "metadata": {},
   "source": [
    "## 4.During the survey, the ages of 80 patients infected by COVID and admitted to one of the city hospitals were recorded and the collected data is represented in the less than cumulative frequency distribution table.\n",
    "age(in yrs) \n",
    "5 - 15\n",
    "15 - 25\n",
    "25 - 35\n",
    "35 - 45\n",
    "45 - 55\n",
    "55 - 65 \n",
    "\n",
    "no.of patients\n",
    "6\n",
    "11\n",
    "21\n",
    "23\n",
    "14\n",
    "5\n",
    "\n",
    "\n",
    "\n",
    "+ a. Which class interval has the highest frequency?\n",
    "+ b. Which age was affected the least?\n",
    "+ c. How many patients of age 45 years and above were admitted?\n",
    "+ d. Which is the modal class interval in the above dataset\n",
    "+ e. What is the median class interval of age?"
   ]
  },
  {
   "cell_type": "markdown",
   "id": "944e5bb5",
   "metadata": {},
   "source": [
    "+ a.Among these intervals, the \"35 - 45\" age interval has the highest frequency, with 23 patients. Therefore, the class interval \"35 - 45\" has the highest frequency in your datase\n",
    "\n",
    "\n",
    "+ b.The age interval \"55 - 65\" has the lowest frequency, with only 5 patients. Therefore, the age group between 55 and 65 years was affected the least in your dataset.\n",
    "\n",
    "\n",
    "+ c.To find out how many patients of age 45 years and above were admitted, you can sum the frequencies for the age intervals \"45 - 55\" and \"55 - 65\" since both of these intervals include patients aged 45 years and above:\n",
    "\n",
    "    Age Interval \"45 - 55\" has 14 patients.\n",
    "    Age Interval \"55 - 65\" has 5 patients.\n",
    "    Now, add these two frequencies together:\n",
    "\n",
    "    14 (from \"45 - 55\") + 5 (from \"55 - 65\") = 19 patients\n",
    "\n",
    "    So, there were a total of 19 patients aged 45 years and above who were admitted.\n",
    "    \n",
    "    \n",
    "    \n",
    "    \n",
    "+ d.The age interval \"35 - 45\" has the highest frequency, with 23 patients. Therefore, the modal class interval in this data set is \"35 - 45\" years. This means that the age group between 35 and 45 years has the most patients in your dataset.\n",
    "\n",
    "\n",
    "\n",
    "\n",
    "\n",
    "\n",
    "+ e.The total number of patients is 80, which is an even number. To find the median age, we look for the middle two values, which are the 40th and 41st values in the ordered data set.\n",
    "\n",
    "   The 40th value falls within the \"35 - 45\" age interval, and the 41st value also falls within the same interval. So, the median age interval is \"35 - 45.\"\n",
    "\n",
    "   Therefore, the median class interval of age is \"35 - 45\" years."
   ]
  },
  {
   "cell_type": "markdown",
   "id": "00077e67",
   "metadata": {},
   "source": [
    "## 5. Assume you are the trader and you have invested over the years, and you are worried about theaverage return on investment. What average method would you use to compute the average return for the data given below?\n",
    "         Year Return Asset Price\n",
    "          2015 36% 5000\n",
    "          2016 23% 6400\n",
    "          2017 -48% 7890\n",
    "          2018 -30% 9023\n",
    "          2019 15% 4567\n",
    "          2020 31% 3890\n"
   ]
  },
  {
   "cell_type": "markdown",
   "id": "89b4b60e",
   "metadata": {},
   "source": [
    "\n",
    "To compute the average return on investment for the given data, you should use the arithmetic mean, also known as the simple average. Here's how you can calculate it:\n",
    "\n",
    "First, calculate the annual returns for each year, taking into account the percentage returns and the asset prices at the beginning and end of each year. To do this, you can use the following formula:\n",
    "\n",
    "Annual Return = [(Ending Asset Price - Beginning Asset Price) / Beginning Asset Price] * 100\n",
    "\n",
    "Calculate the annual returns for each year:\n",
    "\n",
    "2015: [(6400 - 5000) / 5000] * 100 = 28%\n",
    "2016: [(-48% of 7890) / 7890] * 100 ≈ -48%\n",
    "2017: [(-30% of 9023) / 9023] * 100 ≈ -30%\n",
    "2018: [(15% of 4567) / 4567] * 100 ≈ 15%\n",
    "2019: [(31% of 3890) / 3890] * 100 ≈ 31%\n",
    "Next, calculate the average of these annual returns using the arithmetic mean formula:\n",
    "\n",
    "Average Return = (Sum of Annual Returns) / (Number of Years)\n",
    "\n",
    "Average Return = (28% - 48% - 30% + 15% + 31%) / 5\n",
    "\n",
    "Average Return ≈ (-4% + 15% + 31%) / 5\n",
    "\n",
    "Average Return ≈ 42% / 5\n",
    "\n",
    "Average Return ≈ 8.4%\n",
    "\n",
    "So, the average return on investment for the given data is approximately 8.4%.\n",
    "\n",
    "\n",
    "\n",
    "\n",
    "\n",
    "\n",
    "\n"
   ]
  },
  {
   "cell_type": "markdown",
   "id": "3d8ad16e",
   "metadata": {},
   "source": [
    "## 6. Suppose you have been told to measure the average height of all the males on the earth. What would be your strategy for the same? Would the average height be a parameter or a statistic? Justify your answer.\n"
   ]
  },
  {
   "cell_type": "markdown",
   "id": "79a5797d",
   "metadata": {},
   "source": [
    "Measuring the average height of all males on Earth is an enormous undertaking, and it's not practically feasible to measure every male's height individually due to the global population's vast size and logistical challenges. Instead,we would need to use a statistical approach to estimate the average height.\n",
    "\n",
    "Here's a strategy we can use:\n",
    "\n",
    "Sample Selection: Select a representative sample of males from different regions, ethnicities, and age groups around the world. Ensure that the sample is large enough to provide a reliable estimate but small enough to be manageable. The selection should be random or stratified to avoid bias.\n",
    "\n",
    "Height Measurement: Measure the height of individuals in the selected sample accurately and consistently, using standardized measurement methods and equipment.\n",
    "\n",
    "Data Analysis: Calculate the average height of the individuals in the sample. This average height will be a statistic because it is derived from a subset (sample) of the entire population of males on Earth.\n",
    "\n",
    "Statistical Inference: Use statistical techniques to make inferences about the average height of all males on Earth based on the sample data. This involves calculating confidence intervals and estimating the margin of error to express the uncertainty in the estimate.\n",
    "\n",
    "Reporting: Report the estimated average height along with the associated confidence interval and margin of error, making it clear that this is an estimate based on a sample.\n",
    "\n",
    "The average height obtained through this process is a statistic, not a parameter. A parameter is a numerical value that describes a characteristic of a population. In this case, the average height of all males on Earth is the population parameter, which is unknown and cannot be practically measured directly. Instead, we estimate it using statistical techniques based on a sample. The estimated average height from the sample is a statistic that serves as an approximation of the population parameter.\n",
    "\n",
    "\n",
    "\n",
    "\n"
   ]
  },
  {
   "cell_type": "markdown",
   "id": "fdbba8ea",
   "metadata": {},
   "source": [
    "## 7. Calculate the z score of the following numbers:\n",
    "         X = [4.5,6.2,7.3,9.1,10.4,11]"
   ]
  },
  {
   "cell_type": "code",
   "execution_count": 5,
   "id": "d3f360c4",
   "metadata": {},
   "outputs": [
    {
     "data": {
      "text/plain": [
       "8.083333333333334"
      ]
     },
     "execution_count": 5,
     "metadata": {},
     "output_type": "execute_result"
    }
   ],
   "source": [
    "X = [4.5,6.2,7.3,9.1,10.4,11]\n",
    "\n",
    "np.mean(X)\n"
   ]
  },
  {
   "cell_type": "code",
   "execution_count": 9,
   "id": "b5e4c1c9",
   "metadata": {},
   "outputs": [
    {
     "data": {
      "text/plain": [
       "2.3060909686210462"
      ]
     },
     "execution_count": 9,
     "metadata": {},
     "output_type": "execute_result"
    }
   ],
   "source": [
    "np.std(X)"
   ]
  },
  {
   "cell_type": "code",
   "execution_count": 8,
   "id": "609220e0",
   "metadata": {},
   "outputs": [
    {
     "data": {
      "text/plain": [
       "-1.553856019598407"
      ]
     },
     "execution_count": 8,
     "metadata": {},
     "output_type": "execute_result"
    }
   ],
   "source": [
    "z_score1=(4.5-np.mean(X))/np.std(X)\n",
    "z_score1"
   ]
  },
  {
   "cell_type": "code",
   "execution_count": 11,
   "id": "741cde02",
   "metadata": {},
   "outputs": [
    {
     "data": {
      "text/plain": [
       "-0.816677814951721"
      ]
     },
     "execution_count": 11,
     "metadata": {},
     "output_type": "execute_result"
    }
   ],
   "source": [
    "z_score2=(6.2-np.mean(X))/np.std(X)\n",
    "z_score2"
   ]
  },
  {
   "cell_type": "code",
   "execution_count": 12,
   "id": "b2a71be6",
   "metadata": {},
   "outputs": [
    {
     "data": {
      "text/plain": [
       "-0.3396801531215125"
      ]
     },
     "execution_count": 12,
     "metadata": {},
     "output_type": "execute_result"
    }
   ],
   "source": [
    "z_score3=(7.3-np.mean(X))/np.std(X)\n",
    "z_score3"
   ]
  },
  {
   "cell_type": "code",
   "execution_count": 13,
   "id": "31938d6e",
   "metadata": {},
   "outputs": [
    {
     "data": {
      "text/plain": [
       "0.44086147532791964"
      ]
     },
     "execution_count": 13,
     "metadata": {},
     "output_type": "execute_result"
    }
   ],
   "source": [
    "z_score4=(9.1-np.mean(X))/np.std(X)\n",
    "z_score4"
   ]
  },
  {
   "cell_type": "code",
   "execution_count": 14,
   "id": "3b81a6fb",
   "metadata": {},
   "outputs": [
    {
     "data": {
      "text/plain": [
       "1.004585984763621"
      ]
     },
     "execution_count": 14,
     "metadata": {},
     "output_type": "execute_result"
    }
   ],
   "source": [
    "z_score5=(10.4-np.mean(X))/np.std(X)\n",
    "z_score5"
   ]
  },
  {
   "cell_type": "code",
   "execution_count": 15,
   "id": "ad72697b",
   "metadata": {},
   "outputs": [
    {
     "data": {
      "text/plain": [
       "1.2647665275800983"
      ]
     },
     "execution_count": 15,
     "metadata": {},
     "output_type": "execute_result"
    }
   ],
   "source": [
    "z_score6=(11-np.mean(X))/np.std(X)\n",
    "z_score6"
   ]
  },
  {
   "cell_type": "markdown",
   "id": "73e6ae91",
   "metadata": {},
   "source": [
    "+ z_score1(4.5)=-1.553856019598407\n",
    "+ z_score2(6.2)=-0.816677814951721\n",
    "+ z_score3(7.3)=-0.3396801531215125\n",
    "+ z_score4(9.1)=0.44086147532791964\n",
    "+ z_score5(10.4)=1.004585984763621\n",
    "+ z_score6(11)=1.2647665275800983"
   ]
  },
  {
   "cell_type": "markdown",
   "id": "c9fd87eb",
   "metadata": {},
   "source": [
    "## SECTION 2"
   ]
  },
  {
   "cell_type": "code",
   "execution_count": 16,
   "id": "59331674",
   "metadata": {},
   "outputs": [],
   "source": [
    "import matplotlib.pyplot as plt\n",
    "import seaborn as sns"
   ]
  },
  {
   "cell_type": "code",
   "execution_count": 17,
   "id": "14ff970d",
   "metadata": {},
   "outputs": [],
   "source": [
    "import pandas as pd"
   ]
  },
  {
   "cell_type": "code",
   "execution_count": 18,
   "id": "f9763a26",
   "metadata": {},
   "outputs": [],
   "source": [
    "import numpy as np"
   ]
  },
  {
   "cell_type": "code",
   "execution_count": 20,
   "id": "f92a5ad8",
   "metadata": {},
   "outputs": [
    {
     "name": "stderr",
     "output_type": "stream",
     "text": [
      "C:\\Users\\dell\\anaconda3\\Lib\\site-packages\\openpyxl\\worksheet\\_read_only.py:79: UserWarning: Unknown extension is not supported and will be removed\n",
      "  for idx, row in parser.parse():\n"
     ]
    }
   ],
   "source": [
    "bank=pd.read_excel(\"C:/Users/dell/Downloads/Bank Personal Loan Modelling.xlsx\",sheet_name=\"Data\")"
   ]
  },
  {
   "cell_type": "code",
   "execution_count": 5,
   "id": "4fbee1b9",
   "metadata": {},
   "outputs": [
    {
     "data": {
      "text/html": [
       "<div>\n",
       "<style scoped>\n",
       "    .dataframe tbody tr th:only-of-type {\n",
       "        vertical-align: middle;\n",
       "    }\n",
       "\n",
       "    .dataframe tbody tr th {\n",
       "        vertical-align: top;\n",
       "    }\n",
       "\n",
       "    .dataframe thead th {\n",
       "        text-align: right;\n",
       "    }\n",
       "</style>\n",
       "<table border=\"1\" class=\"dataframe\">\n",
       "  <thead>\n",
       "    <tr style=\"text-align: right;\">\n",
       "      <th></th>\n",
       "      <th>ID</th>\n",
       "      <th>Age</th>\n",
       "      <th>Experience</th>\n",
       "      <th>Income</th>\n",
       "      <th>ZIP Code</th>\n",
       "      <th>Family</th>\n",
       "      <th>CCAvg</th>\n",
       "      <th>Education</th>\n",
       "      <th>Mortgage</th>\n",
       "      <th>Personal Loan</th>\n",
       "      <th>Securities Account</th>\n",
       "      <th>CD Account</th>\n",
       "      <th>Online</th>\n",
       "      <th>CreditCard</th>\n",
       "    </tr>\n",
       "  </thead>\n",
       "  <tbody>\n",
       "    <tr>\n",
       "      <th>0</th>\n",
       "      <td>1</td>\n",
       "      <td>25</td>\n",
       "      <td>1</td>\n",
       "      <td>49</td>\n",
       "      <td>91107</td>\n",
       "      <td>4</td>\n",
       "      <td>1.6</td>\n",
       "      <td>1</td>\n",
       "      <td>0</td>\n",
       "      <td>0</td>\n",
       "      <td>1</td>\n",
       "      <td>0</td>\n",
       "      <td>0</td>\n",
       "      <td>0</td>\n",
       "    </tr>\n",
       "    <tr>\n",
       "      <th>1</th>\n",
       "      <td>2</td>\n",
       "      <td>45</td>\n",
       "      <td>19</td>\n",
       "      <td>34</td>\n",
       "      <td>90089</td>\n",
       "      <td>3</td>\n",
       "      <td>1.5</td>\n",
       "      <td>1</td>\n",
       "      <td>0</td>\n",
       "      <td>0</td>\n",
       "      <td>1</td>\n",
       "      <td>0</td>\n",
       "      <td>0</td>\n",
       "      <td>0</td>\n",
       "    </tr>\n",
       "    <tr>\n",
       "      <th>2</th>\n",
       "      <td>3</td>\n",
       "      <td>39</td>\n",
       "      <td>15</td>\n",
       "      <td>11</td>\n",
       "      <td>94720</td>\n",
       "      <td>1</td>\n",
       "      <td>1.0</td>\n",
       "      <td>1</td>\n",
       "      <td>0</td>\n",
       "      <td>0</td>\n",
       "      <td>0</td>\n",
       "      <td>0</td>\n",
       "      <td>0</td>\n",
       "      <td>0</td>\n",
       "    </tr>\n",
       "    <tr>\n",
       "      <th>3</th>\n",
       "      <td>4</td>\n",
       "      <td>35</td>\n",
       "      <td>9</td>\n",
       "      <td>100</td>\n",
       "      <td>94112</td>\n",
       "      <td>1</td>\n",
       "      <td>2.7</td>\n",
       "      <td>2</td>\n",
       "      <td>0</td>\n",
       "      <td>0</td>\n",
       "      <td>0</td>\n",
       "      <td>0</td>\n",
       "      <td>0</td>\n",
       "      <td>0</td>\n",
       "    </tr>\n",
       "    <tr>\n",
       "      <th>4</th>\n",
       "      <td>5</td>\n",
       "      <td>35</td>\n",
       "      <td>8</td>\n",
       "      <td>45</td>\n",
       "      <td>91330</td>\n",
       "      <td>4</td>\n",
       "      <td>1.0</td>\n",
       "      <td>2</td>\n",
       "      <td>0</td>\n",
       "      <td>0</td>\n",
       "      <td>0</td>\n",
       "      <td>0</td>\n",
       "      <td>0</td>\n",
       "      <td>1</td>\n",
       "    </tr>\n",
       "  </tbody>\n",
       "</table>\n",
       "</div>"
      ],
      "text/plain": [
       "   ID  Age  Experience  Income  ZIP Code  Family  CCAvg  Education  Mortgage  \\\n",
       "0   1   25           1      49     91107       4    1.6          1         0   \n",
       "1   2   45          19      34     90089       3    1.5          1         0   \n",
       "2   3   39          15      11     94720       1    1.0          1         0   \n",
       "3   4   35           9     100     94112       1    2.7          2         0   \n",
       "4   5   35           8      45     91330       4    1.0          2         0   \n",
       "\n",
       "   Personal Loan  Securities Account  CD Account  Online  CreditCard  \n",
       "0              0                   1           0       0           0  \n",
       "1              0                   1           0       0           0  \n",
       "2              0                   0           0       0           0  \n",
       "3              0                   0           0       0           0  \n",
       "4              0                   0           0       0           1  "
      ]
     },
     "execution_count": 5,
     "metadata": {},
     "output_type": "execute_result"
    }
   ],
   "source": [
    "bank.head()"
   ]
  },
  {
   "cell_type": "markdown",
   "id": "f28ce847",
   "metadata": {},
   "source": [
    "## 8. Give us the statistical summary for all the variables in the dataset"
   ]
  },
  {
   "cell_type": "code",
   "execution_count": 6,
   "id": "1e0022d0",
   "metadata": {},
   "outputs": [
    {
     "data": {
      "text/html": [
       "<div>\n",
       "<style scoped>\n",
       "    .dataframe tbody tr th:only-of-type {\n",
       "        vertical-align: middle;\n",
       "    }\n",
       "\n",
       "    .dataframe tbody tr th {\n",
       "        vertical-align: top;\n",
       "    }\n",
       "\n",
       "    .dataframe thead th {\n",
       "        text-align: right;\n",
       "    }\n",
       "</style>\n",
       "<table border=\"1\" class=\"dataframe\">\n",
       "  <thead>\n",
       "    <tr style=\"text-align: right;\">\n",
       "      <th></th>\n",
       "      <th>ID</th>\n",
       "      <th>Age</th>\n",
       "      <th>Experience</th>\n",
       "      <th>Income</th>\n",
       "      <th>ZIP Code</th>\n",
       "      <th>Family</th>\n",
       "      <th>CCAvg</th>\n",
       "      <th>Education</th>\n",
       "      <th>Mortgage</th>\n",
       "      <th>Personal Loan</th>\n",
       "      <th>Securities Account</th>\n",
       "      <th>CD Account</th>\n",
       "      <th>Online</th>\n",
       "      <th>CreditCard</th>\n",
       "    </tr>\n",
       "  </thead>\n",
       "  <tbody>\n",
       "    <tr>\n",
       "      <th>count</th>\n",
       "      <td>5000.000000</td>\n",
       "      <td>5000.000000</td>\n",
       "      <td>5000.000000</td>\n",
       "      <td>5000.000000</td>\n",
       "      <td>5000.000000</td>\n",
       "      <td>5000.000000</td>\n",
       "      <td>5000.000000</td>\n",
       "      <td>5000.000000</td>\n",
       "      <td>5000.000000</td>\n",
       "      <td>5000.000000</td>\n",
       "      <td>5000.000000</td>\n",
       "      <td>5000.00000</td>\n",
       "      <td>5000.000000</td>\n",
       "      <td>5000.000000</td>\n",
       "    </tr>\n",
       "    <tr>\n",
       "      <th>mean</th>\n",
       "      <td>2500.500000</td>\n",
       "      <td>45.338400</td>\n",
       "      <td>20.104600</td>\n",
       "      <td>73.774200</td>\n",
       "      <td>93152.503000</td>\n",
       "      <td>2.396400</td>\n",
       "      <td>1.937913</td>\n",
       "      <td>1.881000</td>\n",
       "      <td>56.498800</td>\n",
       "      <td>0.096000</td>\n",
       "      <td>0.104400</td>\n",
       "      <td>0.06040</td>\n",
       "      <td>0.596800</td>\n",
       "      <td>0.294000</td>\n",
       "    </tr>\n",
       "    <tr>\n",
       "      <th>std</th>\n",
       "      <td>1443.520003</td>\n",
       "      <td>11.463166</td>\n",
       "      <td>11.467954</td>\n",
       "      <td>46.033729</td>\n",
       "      <td>2121.852197</td>\n",
       "      <td>1.147663</td>\n",
       "      <td>1.747666</td>\n",
       "      <td>0.839869</td>\n",
       "      <td>101.713802</td>\n",
       "      <td>0.294621</td>\n",
       "      <td>0.305809</td>\n",
       "      <td>0.23825</td>\n",
       "      <td>0.490589</td>\n",
       "      <td>0.455637</td>\n",
       "    </tr>\n",
       "    <tr>\n",
       "      <th>min</th>\n",
       "      <td>1.000000</td>\n",
       "      <td>23.000000</td>\n",
       "      <td>-3.000000</td>\n",
       "      <td>8.000000</td>\n",
       "      <td>9307.000000</td>\n",
       "      <td>1.000000</td>\n",
       "      <td>0.000000</td>\n",
       "      <td>1.000000</td>\n",
       "      <td>0.000000</td>\n",
       "      <td>0.000000</td>\n",
       "      <td>0.000000</td>\n",
       "      <td>0.00000</td>\n",
       "      <td>0.000000</td>\n",
       "      <td>0.000000</td>\n",
       "    </tr>\n",
       "    <tr>\n",
       "      <th>25%</th>\n",
       "      <td>1250.750000</td>\n",
       "      <td>35.000000</td>\n",
       "      <td>10.000000</td>\n",
       "      <td>39.000000</td>\n",
       "      <td>91911.000000</td>\n",
       "      <td>1.000000</td>\n",
       "      <td>0.700000</td>\n",
       "      <td>1.000000</td>\n",
       "      <td>0.000000</td>\n",
       "      <td>0.000000</td>\n",
       "      <td>0.000000</td>\n",
       "      <td>0.00000</td>\n",
       "      <td>0.000000</td>\n",
       "      <td>0.000000</td>\n",
       "    </tr>\n",
       "    <tr>\n",
       "      <th>50%</th>\n",
       "      <td>2500.500000</td>\n",
       "      <td>45.000000</td>\n",
       "      <td>20.000000</td>\n",
       "      <td>64.000000</td>\n",
       "      <td>93437.000000</td>\n",
       "      <td>2.000000</td>\n",
       "      <td>1.500000</td>\n",
       "      <td>2.000000</td>\n",
       "      <td>0.000000</td>\n",
       "      <td>0.000000</td>\n",
       "      <td>0.000000</td>\n",
       "      <td>0.00000</td>\n",
       "      <td>1.000000</td>\n",
       "      <td>0.000000</td>\n",
       "    </tr>\n",
       "    <tr>\n",
       "      <th>75%</th>\n",
       "      <td>3750.250000</td>\n",
       "      <td>55.000000</td>\n",
       "      <td>30.000000</td>\n",
       "      <td>98.000000</td>\n",
       "      <td>94608.000000</td>\n",
       "      <td>3.000000</td>\n",
       "      <td>2.500000</td>\n",
       "      <td>3.000000</td>\n",
       "      <td>101.000000</td>\n",
       "      <td>0.000000</td>\n",
       "      <td>0.000000</td>\n",
       "      <td>0.00000</td>\n",
       "      <td>1.000000</td>\n",
       "      <td>1.000000</td>\n",
       "    </tr>\n",
       "    <tr>\n",
       "      <th>max</th>\n",
       "      <td>5000.000000</td>\n",
       "      <td>67.000000</td>\n",
       "      <td>43.000000</td>\n",
       "      <td>224.000000</td>\n",
       "      <td>96651.000000</td>\n",
       "      <td>4.000000</td>\n",
       "      <td>10.000000</td>\n",
       "      <td>3.000000</td>\n",
       "      <td>635.000000</td>\n",
       "      <td>1.000000</td>\n",
       "      <td>1.000000</td>\n",
       "      <td>1.00000</td>\n",
       "      <td>1.000000</td>\n",
       "      <td>1.000000</td>\n",
       "    </tr>\n",
       "  </tbody>\n",
       "</table>\n",
       "</div>"
      ],
      "text/plain": [
       "                ID          Age   Experience       Income      ZIP Code  \\\n",
       "count  5000.000000  5000.000000  5000.000000  5000.000000   5000.000000   \n",
       "mean   2500.500000    45.338400    20.104600    73.774200  93152.503000   \n",
       "std    1443.520003    11.463166    11.467954    46.033729   2121.852197   \n",
       "min       1.000000    23.000000    -3.000000     8.000000   9307.000000   \n",
       "25%    1250.750000    35.000000    10.000000    39.000000  91911.000000   \n",
       "50%    2500.500000    45.000000    20.000000    64.000000  93437.000000   \n",
       "75%    3750.250000    55.000000    30.000000    98.000000  94608.000000   \n",
       "max    5000.000000    67.000000    43.000000   224.000000  96651.000000   \n",
       "\n",
       "            Family        CCAvg    Education     Mortgage  Personal Loan  \\\n",
       "count  5000.000000  5000.000000  5000.000000  5000.000000    5000.000000   \n",
       "mean      2.396400     1.937913     1.881000    56.498800       0.096000   \n",
       "std       1.147663     1.747666     0.839869   101.713802       0.294621   \n",
       "min       1.000000     0.000000     1.000000     0.000000       0.000000   \n",
       "25%       1.000000     0.700000     1.000000     0.000000       0.000000   \n",
       "50%       2.000000     1.500000     2.000000     0.000000       0.000000   \n",
       "75%       3.000000     2.500000     3.000000   101.000000       0.000000   \n",
       "max       4.000000    10.000000     3.000000   635.000000       1.000000   \n",
       "\n",
       "       Securities Account  CD Account       Online   CreditCard  \n",
       "count         5000.000000  5000.00000  5000.000000  5000.000000  \n",
       "mean             0.104400     0.06040     0.596800     0.294000  \n",
       "std              0.305809     0.23825     0.490589     0.455637  \n",
       "min              0.000000     0.00000     0.000000     0.000000  \n",
       "25%              0.000000     0.00000     0.000000     0.000000  \n",
       "50%              0.000000     0.00000     1.000000     0.000000  \n",
       "75%              0.000000     0.00000     1.000000     1.000000  \n",
       "max              1.000000     1.00000     1.000000     1.000000  "
      ]
     },
     "execution_count": 6,
     "metadata": {},
     "output_type": "execute_result"
    }
   ],
   "source": [
    "bank.describe()"
   ]
  },
  {
   "cell_type": "markdown",
   "id": "b03ad43d",
   "metadata": {},
   "source": [
    "## 9. Evaluate the measures of central tendency and measures of dispersion for all the quantitative variables in the dataset.\n"
   ]
  },
  {
   "cell_type": "markdown",
   "id": "3b7f0979",
   "metadata": {},
   "source": [
    "- Measures ofCentral Tendency\n",
    "- Measures of Dispersion:Spread / Variability\n"
   ]
  },
  {
   "cell_type": "markdown",
   "id": "c2ac7e80",
   "metadata": {},
   "source": [
    "##### Measures of Central Tendency\n",
    "- Mean\n",
    "- Median \n",
    "- Mode"
   ]
  },
  {
   "cell_type": "markdown",
   "id": "28f44655",
   "metadata": {},
   "source": [
    "##### Mean"
   ]
  },
  {
   "cell_type": "code",
   "execution_count": 7,
   "id": "02647a1e",
   "metadata": {},
   "outputs": [
    {
     "name": "stderr",
     "output_type": "stream",
     "text": [
      "C:\\Users\\dell\\anaconda3\\Lib\\site-packages\\numpy\\core\\fromnumeric.py:3462: FutureWarning: In a future version, DataFrame.mean(axis=None) will return a scalar mean over the entire DataFrame. To retain the old behavior, use 'frame.mean(axis=0)' or just 'frame.mean()'\n",
      "  return mean(axis=axis, dtype=dtype, out=out, **kwargs)\n"
     ]
    },
    {
     "data": {
      "text/plain": [
       "ID                     2500.500000\n",
       "Age                      45.338400\n",
       "Experience               20.104600\n",
       "Income                   73.774200\n",
       "ZIP Code              93152.503000\n",
       "Family                    2.396400\n",
       "CCAvg                     1.937913\n",
       "Education                 1.881000\n",
       "Mortgage                 56.498800\n",
       "Personal Loan             0.096000\n",
       "Securities Account        0.104400\n",
       "CD Account                0.060400\n",
       "Online                    0.596800\n",
       "CreditCard                0.294000\n",
       "dtype: float64"
      ]
     },
     "execution_count": 7,
     "metadata": {},
     "output_type": "execute_result"
    }
   ],
   "source": [
    "np.mean(bank)"
   ]
  },
  {
   "cell_type": "markdown",
   "id": "8f5a06ff",
   "metadata": {},
   "source": [
    "##### Median"
   ]
  },
  {
   "cell_type": "code",
   "execution_count": 114,
   "id": "c620ef5a",
   "metadata": {},
   "outputs": [
    {
     "data": {
      "text/plain": [
       "ID                     2500.5\n",
       "Age                      45.0\n",
       "Experience               20.0\n",
       "Income                   64.0\n",
       "ZIP Code              93437.0\n",
       "Family                    2.0\n",
       "CCAvg                     1.5\n",
       "Education                 2.0\n",
       "Mortgage                  0.0\n",
       "Personal Loan             0.0\n",
       "Securities Account        0.0\n",
       "CD Account                0.0\n",
       "Online                    1.0\n",
       "CreditCard                0.0\n",
       "dtype: float64"
      ]
     },
     "execution_count": 114,
     "metadata": {},
     "output_type": "execute_result"
    }
   ],
   "source": [
    "bank.median()"
   ]
  },
  {
   "cell_type": "markdown",
   "id": "82cea78b",
   "metadata": {},
   "source": [
    "##### Mode"
   ]
  },
  {
   "cell_type": "code",
   "execution_count": 21,
   "id": "61db9ef5",
   "metadata": {},
   "outputs": [
    {
     "name": "stdout",
     "output_type": "stream",
     "text": [
      "<class 'pandas.core.frame.DataFrame'>\n",
      "RangeIndex: 5000 entries, 0 to 4999\n",
      "Data columns (total 14 columns):\n",
      " #   Column              Non-Null Count  Dtype  \n",
      "---  ------              --------------  -----  \n",
      " 0   ID                  5000 non-null   int64  \n",
      " 1   Age                 5000 non-null   int64  \n",
      " 2   Experience          5000 non-null   int64  \n",
      " 3   Income              5000 non-null   int64  \n",
      " 4   ZIP Code            5000 non-null   int64  \n",
      " 5   Family              5000 non-null   int64  \n",
      " 6   CCAvg               5000 non-null   float64\n",
      " 7   Education           5000 non-null   int64  \n",
      " 8   Mortgage            5000 non-null   int64  \n",
      " 9   Personal Loan       5000 non-null   int64  \n",
      " 10  Securities Account  5000 non-null   int64  \n",
      " 11  CD Account          5000 non-null   int64  \n",
      " 12  Online              5000 non-null   int64  \n",
      " 13  CreditCard          5000 non-null   int64  \n",
      "dtypes: float64(1), int64(13)\n",
      "memory usage: 547.0 KB\n"
     ]
    }
   ],
   "source": [
    "bank.info()"
   ]
  },
  {
   "cell_type": "code",
   "execution_count": 22,
   "id": "d48ca1fa",
   "metadata": {},
   "outputs": [
    {
     "data": {
      "text/plain": [
       "35    151\n",
       "43    149\n",
       "52    145\n",
       "54    143\n",
       "58    143\n",
       "50    138\n",
       "41    136\n",
       "30    136\n",
       "56    135\n",
       "34    134\n",
       "39    133\n",
       "57    132\n",
       "59    132\n",
       "51    129\n",
       "45    127\n",
       "60    127\n",
       "46    127\n",
       "42    126\n",
       "31    125\n",
       "40    125\n",
       "55    125\n",
       "29    123\n",
       "62    123\n",
       "61    122\n",
       "44    121\n",
       "32    120\n",
       "33    120\n",
       "48    118\n",
       "38    115\n",
       "49    115\n",
       "47    113\n",
       "53    112\n",
       "63    108\n",
       "36    107\n",
       "37    106\n",
       "28    103\n",
       "27     91\n",
       "65     80\n",
       "64     78\n",
       "26     78\n",
       "25     53\n",
       "24     28\n",
       "66     24\n",
       "67     12\n",
       "23     12\n",
       "Name: Age, dtype: int64"
      ]
     },
     "execution_count": 22,
     "metadata": {},
     "output_type": "execute_result"
    }
   ],
   "source": [
    "bank[\"Age\"].value_counts()"
   ]
  },
  {
   "cell_type": "code",
   "execution_count": 23,
   "id": "acbef860",
   "metadata": {},
   "outputs": [
    {
     "data": {
      "text/plain": [
       " 32    154\n",
       " 20    148\n",
       " 9     147\n",
       " 5     146\n",
       " 23    144\n",
       " 35    143\n",
       " 25    142\n",
       " 28    138\n",
       " 18    137\n",
       " 19    135\n",
       " 26    134\n",
       " 24    131\n",
       " 3     129\n",
       " 16    127\n",
       " 14    127\n",
       " 30    126\n",
       " 17    125\n",
       " 34    125\n",
       " 27    125\n",
       " 22    124\n",
       " 29    124\n",
       " 7     121\n",
       " 6     119\n",
       " 15    119\n",
       " 8     119\n",
       " 10    118\n",
       " 13    117\n",
       " 33    117\n",
       " 11    116\n",
       " 37    116\n",
       " 36    114\n",
       " 21    113\n",
       " 4     113\n",
       " 31    104\n",
       " 12    102\n",
       " 38     88\n",
       " 2      85\n",
       " 39     85\n",
       " 1      74\n",
       " 0      66\n",
       " 40     57\n",
       " 41     43\n",
       "-1      33\n",
       "-2      15\n",
       " 42      8\n",
       "-3       4\n",
       " 43      3\n",
       "Name: Experience, dtype: int64"
      ]
     },
     "execution_count": 23,
     "metadata": {},
     "output_type": "execute_result"
    }
   ],
   "source": [
    "bank[\"Experience\"].value_counts()"
   ]
  },
  {
   "cell_type": "code",
   "execution_count": 24,
   "id": "40d9629e",
   "metadata": {},
   "outputs": [
    {
     "data": {
      "text/plain": [
       "44     85\n",
       "38     84\n",
       "81     83\n",
       "41     82\n",
       "39     81\n",
       "       ..\n",
       "202     2\n",
       "203     2\n",
       "189     2\n",
       "224     1\n",
       "218     1\n",
       "Name: Income, Length: 162, dtype: int64"
      ]
     },
     "execution_count": 24,
     "metadata": {},
     "output_type": "execute_result"
    }
   ],
   "source": [
    "bank[\"Income\"].value_counts()"
   ]
  },
  {
   "cell_type": "code",
   "execution_count": 25,
   "id": "bea07897",
   "metadata": {},
   "outputs": [
    {
     "data": {
      "text/plain": [
       "1    1472\n",
       "2    1296\n",
       "4    1222\n",
       "3    1010\n",
       "Name: Family, dtype: int64"
      ]
     },
     "execution_count": 25,
     "metadata": {},
     "output_type": "execute_result"
    }
   ],
   "source": [
    "bank[\"Family\"].value_counts()"
   ]
  },
  {
   "cell_type": "code",
   "execution_count": 26,
   "id": "2317e6c0",
   "metadata": {},
   "outputs": [
    {
     "data": {
      "text/plain": [
       "0.300000    241\n",
       "1.000000    231\n",
       "0.200000    204\n",
       "2.000000    188\n",
       "0.800000    187\n",
       "           ... \n",
       "3.250000      1\n",
       "3.666667      1\n",
       "4.666667      1\n",
       "8.900000      1\n",
       "2.750000      1\n",
       "Name: CCAvg, Length: 108, dtype: int64"
      ]
     },
     "execution_count": 26,
     "metadata": {},
     "output_type": "execute_result"
    }
   ],
   "source": [
    "bank[\"CCAvg\"].value_counts()"
   ]
  },
  {
   "cell_type": "code",
   "execution_count": 27,
   "id": "f07a4f86",
   "metadata": {},
   "outputs": [
    {
     "data": {
      "text/plain": [
       "1    2096\n",
       "3    1501\n",
       "2    1403\n",
       "Name: Education, dtype: int64"
      ]
     },
     "execution_count": 27,
     "metadata": {},
     "output_type": "execute_result"
    }
   ],
   "source": [
    "bank[\"Education\"].value_counts()"
   ]
  },
  {
   "cell_type": "code",
   "execution_count": 28,
   "id": "f96a9724",
   "metadata": {},
   "outputs": [
    {
     "data": {
      "text/plain": [
       "0      3462\n",
       "98       17\n",
       "119      16\n",
       "89       16\n",
       "91       16\n",
       "       ... \n",
       "547       1\n",
       "458       1\n",
       "505       1\n",
       "361       1\n",
       "541       1\n",
       "Name: Mortgage, Length: 347, dtype: int64"
      ]
     },
     "execution_count": 28,
     "metadata": {},
     "output_type": "execute_result"
    }
   ],
   "source": [
    "bank[\"Mortgage\"].value_counts()"
   ]
  },
  {
   "cell_type": "code",
   "execution_count": 29,
   "id": "c5a27fb4",
   "metadata": {},
   "outputs": [
    {
     "data": {
      "text/plain": [
       "0    4520\n",
       "1     480\n",
       "Name: Personal Loan, dtype: int64"
      ]
     },
     "execution_count": 29,
     "metadata": {},
     "output_type": "execute_result"
    }
   ],
   "source": [
    "bank[\"Personal Loan\"].value_counts()"
   ]
  },
  {
   "cell_type": "code",
   "execution_count": 30,
   "id": "1b4d5fc8",
   "metadata": {},
   "outputs": [
    {
     "data": {
      "text/plain": [
       "0    4478\n",
       "1     522\n",
       "Name: Securities Account, dtype: int64"
      ]
     },
     "execution_count": 30,
     "metadata": {},
     "output_type": "execute_result"
    }
   ],
   "source": [
    "bank[\"Securities Account\"].value_counts()"
   ]
  },
  {
   "cell_type": "code",
   "execution_count": 31,
   "id": "db86aff5",
   "metadata": {},
   "outputs": [
    {
     "data": {
      "text/plain": [
       "0    4698\n",
       "1     302\n",
       "Name: CD Account, dtype: int64"
      ]
     },
     "execution_count": 31,
     "metadata": {},
     "output_type": "execute_result"
    }
   ],
   "source": [
    "bank[\"CD Account\"].value_counts()"
   ]
  },
  {
   "cell_type": "code",
   "execution_count": 32,
   "id": "1623ef1d",
   "metadata": {},
   "outputs": [
    {
     "data": {
      "text/plain": [
       "1    2984\n",
       "0    2016\n",
       "Name: Online, dtype: int64"
      ]
     },
     "execution_count": 32,
     "metadata": {},
     "output_type": "execute_result"
    }
   ],
   "source": [
    "bank[\"Online\"].value_counts()"
   ]
  },
  {
   "cell_type": "code",
   "execution_count": 33,
   "id": "7a883001",
   "metadata": {},
   "outputs": [
    {
     "data": {
      "text/plain": [
       "0    3530\n",
       "1    1470\n",
       "Name: CreditCard, dtype: int64"
      ]
     },
     "execution_count": 33,
     "metadata": {},
     "output_type": "execute_result"
    }
   ],
   "source": [
    "bank[\"CreditCard\"].value_counts()"
   ]
  },
  {
   "cell_type": "markdown",
   "id": "5a294bab",
   "metadata": {},
   "source": [
    "##### measures of Dispersion"
   ]
  },
  {
   "cell_type": "markdown",
   "id": "9af452be",
   "metadata": {},
   "source": [
    "+ Variance\n",
    "+ Standard deviation\n",
    "+ Range\n",
    "+ Inter quartile range (IQR)\n"
   ]
  },
  {
   "cell_type": "markdown",
   "id": "cbb40369",
   "metadata": {},
   "source": [
    "###### Range"
   ]
  },
  {
   "cell_type": "code",
   "execution_count": 34,
   "id": "b2c23721",
   "metadata": {},
   "outputs": [
    {
     "data": {
      "text/plain": [
       "44"
      ]
     },
     "execution_count": 34,
     "metadata": {},
     "output_type": "execute_result"
    }
   ],
   "source": [
    "bank.Age.max()-bank.Age.min()"
   ]
  },
  {
   "cell_type": "code",
   "execution_count": 35,
   "id": "6f4d1aa2",
   "metadata": {},
   "outputs": [
    {
     "data": {
      "text/plain": [
       "46"
      ]
     },
     "execution_count": 35,
     "metadata": {},
     "output_type": "execute_result"
    }
   ],
   "source": [
    "bank.Experience.max()-bank.Experience.min()"
   ]
  },
  {
   "cell_type": "code",
   "execution_count": 36,
   "id": "b62d23fd",
   "metadata": {},
   "outputs": [
    {
     "data": {
      "text/plain": [
       "216"
      ]
     },
     "execution_count": 36,
     "metadata": {},
     "output_type": "execute_result"
    }
   ],
   "source": [
    "bank.Income.max()-bank.Income.min()"
   ]
  },
  {
   "cell_type": "code",
   "execution_count": 37,
   "id": "f467a5bc",
   "metadata": {},
   "outputs": [
    {
     "data": {
      "text/plain": [
       "3"
      ]
     },
     "execution_count": 37,
     "metadata": {},
     "output_type": "execute_result"
    }
   ],
   "source": [
    "bank.Family.max()-bank.Family.min()"
   ]
  },
  {
   "cell_type": "code",
   "execution_count": 38,
   "id": "f33af2fb",
   "metadata": {},
   "outputs": [
    {
     "data": {
      "text/plain": [
       "10.0"
      ]
     },
     "execution_count": 38,
     "metadata": {},
     "output_type": "execute_result"
    }
   ],
   "source": [
    "bank.CCAvg.max()-bank.CCAvg.min()"
   ]
  },
  {
   "cell_type": "code",
   "execution_count": 39,
   "id": "2037c28e",
   "metadata": {},
   "outputs": [
    {
     "data": {
      "text/plain": [
       "2"
      ]
     },
     "execution_count": 39,
     "metadata": {},
     "output_type": "execute_result"
    }
   ],
   "source": [
    "bank.Education.max()-bank.Education.min()"
   ]
  },
  {
   "cell_type": "code",
   "execution_count": 40,
   "id": "663a808f",
   "metadata": {},
   "outputs": [
    {
     "data": {
      "text/plain": [
       "635"
      ]
     },
     "execution_count": 40,
     "metadata": {},
     "output_type": "execute_result"
    }
   ],
   "source": [
    "bank.Mortgage.max()-bank.Mortgage.min()"
   ]
  },
  {
   "cell_type": "code",
   "execution_count": 41,
   "id": "2517ee86",
   "metadata": {},
   "outputs": [
    {
     "data": {
      "text/plain": [
       "1"
      ]
     },
     "execution_count": 41,
     "metadata": {},
     "output_type": "execute_result"
    }
   ],
   "source": [
    "bank[\"Personal Loan\"].max()-bank[\"Personal Loan\"].min()"
   ]
  },
  {
   "cell_type": "code",
   "execution_count": 42,
   "id": "4592fc93",
   "metadata": {},
   "outputs": [
    {
     "data": {
      "text/plain": [
       "1"
      ]
     },
     "execution_count": 42,
     "metadata": {},
     "output_type": "execute_result"
    }
   ],
   "source": [
    "bank[\"Securities Account\"].max()-bank[\"Securities Account\"].min()"
   ]
  },
  {
   "cell_type": "code",
   "execution_count": 43,
   "id": "8247a35f",
   "metadata": {},
   "outputs": [
    {
     "data": {
      "text/plain": [
       "1"
      ]
     },
     "execution_count": 43,
     "metadata": {},
     "output_type": "execute_result"
    }
   ],
   "source": [
    "bank[\"CD Account\"].max()-bank[\"CD Account\"].min()"
   ]
  },
  {
   "cell_type": "code",
   "execution_count": 44,
   "id": "51260e82",
   "metadata": {},
   "outputs": [
    {
     "data": {
      "text/plain": [
       "1"
      ]
     },
     "execution_count": 44,
     "metadata": {},
     "output_type": "execute_result"
    }
   ],
   "source": [
    "bank[\"Online\"].max()-bank[\"Online\"].min()"
   ]
  },
  {
   "cell_type": "code",
   "execution_count": 45,
   "id": "e1626b46",
   "metadata": {},
   "outputs": [
    {
     "data": {
      "text/plain": [
       "1"
      ]
     },
     "execution_count": 45,
     "metadata": {},
     "output_type": "execute_result"
    }
   ],
   "source": [
    "bank[\"CreditCard\"].max()-bank[\"CreditCard\"].min()"
   ]
  },
  {
   "cell_type": "markdown",
   "id": "b1658524",
   "metadata": {},
   "source": [
    "##### inter-quartile range"
   ]
  },
  {
   "cell_type": "code",
   "execution_count": 46,
   "id": "7ec14548",
   "metadata": {},
   "outputs": [
    {
     "data": {
      "text/plain": [
       "35.0"
      ]
     },
     "execution_count": 46,
     "metadata": {},
     "output_type": "execute_result"
    }
   ],
   "source": [
    "q1=np.percentile(bank[\"Age\"],25)\n",
    "q1"
   ]
  },
  {
   "cell_type": "code",
   "execution_count": 47,
   "id": "802a2360",
   "metadata": {},
   "outputs": [
    {
     "data": {
      "text/plain": [
       "55.0"
      ]
     },
     "execution_count": 47,
     "metadata": {},
     "output_type": "execute_result"
    }
   ],
   "source": [
    "q3=np.percentile(bank[\"Age\"],75)\n",
    "q3"
   ]
  },
  {
   "cell_type": "code",
   "execution_count": 48,
   "id": "3eb1306e",
   "metadata": {},
   "outputs": [
    {
     "data": {
      "text/plain": [
       "20.0"
      ]
     },
     "execution_count": 48,
     "metadata": {},
     "output_type": "execute_result"
    }
   ],
   "source": [
    "IQR=q3-q1\n",
    "IQR"
   ]
  },
  {
   "cell_type": "code",
   "execution_count": 49,
   "id": "31b1965f",
   "metadata": {},
   "outputs": [
    {
     "data": {
      "text/plain": [
       "20.0"
      ]
     },
     "execution_count": 49,
     "metadata": {},
     "output_type": "execute_result"
    }
   ],
   "source": [
    "q1=np.percentile(bank[\"Experience\"],25)\n",
    "q3=np.percentile(bank[\"Experience\"],75)\n",
    "IQR=q3-q1\n",
    "IQR"
   ]
  },
  {
   "cell_type": "code",
   "execution_count": 50,
   "id": "e671c725",
   "metadata": {},
   "outputs": [
    {
     "data": {
      "text/plain": [
       "59.0"
      ]
     },
     "execution_count": 50,
     "metadata": {},
     "output_type": "execute_result"
    }
   ],
   "source": [
    "q1=np.percentile(bank[\"Income\"],25)\n",
    "q3=np.percentile(bank[\"Income\"],75)\n",
    "IQR=q3-q1\n",
    "IQR"
   ]
  },
  {
   "cell_type": "code",
   "execution_count": 51,
   "id": "6ca75223",
   "metadata": {},
   "outputs": [
    {
     "data": {
      "text/plain": [
       "2.0"
      ]
     },
     "execution_count": 51,
     "metadata": {},
     "output_type": "execute_result"
    }
   ],
   "source": [
    "q1=np.percentile(bank[\"Family\"],25)\n",
    "q3=np.percentile(bank[\"Family\"],75)\n",
    "IQR=q3-q1\n",
    "IQR"
   ]
  },
  {
   "cell_type": "code",
   "execution_count": 52,
   "id": "e168ce27",
   "metadata": {},
   "outputs": [
    {
     "data": {
      "text/plain": [
       "1.8"
      ]
     },
     "execution_count": 52,
     "metadata": {},
     "output_type": "execute_result"
    }
   ],
   "source": [
    "q1=np.percentile(bank[\"CCAvg\"],25)\n",
    "q3=np.percentile(bank[\"CCAvg\"],75)\n",
    "IQR=q3-q1\n",
    "IQR"
   ]
  },
  {
   "cell_type": "code",
   "execution_count": 53,
   "id": "5911001f",
   "metadata": {},
   "outputs": [
    {
     "data": {
      "text/plain": [
       "2.0"
      ]
     },
     "execution_count": 53,
     "metadata": {},
     "output_type": "execute_result"
    }
   ],
   "source": [
    "q1=np.percentile(bank[\"Education\"],25)\n",
    "q3=np.percentile(bank[\"Education\"],75)\n",
    "IQR=q3-q1\n",
    "IQR"
   ]
  },
  {
   "cell_type": "code",
   "execution_count": 54,
   "id": "255d42bc",
   "metadata": {},
   "outputs": [
    {
     "data": {
      "text/plain": [
       "101.0"
      ]
     },
     "execution_count": 54,
     "metadata": {},
     "output_type": "execute_result"
    }
   ],
   "source": [
    "q1=np.percentile(bank[\"Mortgage\"],25)\n",
    "q3=np.percentile(bank[\"Mortgage\"],75)\n",
    "IQR=q3-q1\n",
    "IQR"
   ]
  },
  {
   "cell_type": "code",
   "execution_count": 55,
   "id": "38b3c0be",
   "metadata": {},
   "outputs": [
    {
     "data": {
      "text/plain": [
       "0.0"
      ]
     },
     "execution_count": 55,
     "metadata": {},
     "output_type": "execute_result"
    }
   ],
   "source": [
    "q1=np.percentile(bank[\"Personal Loan\"],25)\n",
    "q3=np.percentile(bank[\"Personal Loan\"],75)\n",
    "IQR=q3-q1\n",
    "IQR"
   ]
  },
  {
   "cell_type": "code",
   "execution_count": 56,
   "id": "63227421",
   "metadata": {},
   "outputs": [
    {
     "data": {
      "text/plain": [
       "0.0"
      ]
     },
     "execution_count": 56,
     "metadata": {},
     "output_type": "execute_result"
    }
   ],
   "source": [
    "q1=np.percentile(bank[\"Securities Account\"],25)\n",
    "q3=np.percentile(bank[\"Securities Account\"],75)\n",
    "IQR=q3-q1\n",
    "IQR"
   ]
  },
  {
   "cell_type": "code",
   "execution_count": 57,
   "id": "bd903a32",
   "metadata": {},
   "outputs": [
    {
     "data": {
      "text/plain": [
       "0.0"
      ]
     },
     "execution_count": 57,
     "metadata": {},
     "output_type": "execute_result"
    }
   ],
   "source": [
    "q1=np.percentile(bank[\"CD Account\"],25)\n",
    "q3=np.percentile(bank[\"CD Account\"],75)\n",
    "IQR=q3-q1\n",
    "IQR"
   ]
  },
  {
   "cell_type": "code",
   "execution_count": 58,
   "id": "5dd60a3d",
   "metadata": {},
   "outputs": [
    {
     "data": {
      "text/plain": [
       "1.0"
      ]
     },
     "execution_count": 58,
     "metadata": {},
     "output_type": "execute_result"
    }
   ],
   "source": [
    "q1=np.percentile(bank[\"Online\"],25)\n",
    "q3=np.percentile(bank[\"Online\"],75)\n",
    "IQR=q3-q1\n",
    "IQR"
   ]
  },
  {
   "cell_type": "code",
   "execution_count": 59,
   "id": "23697d8c",
   "metadata": {},
   "outputs": [
    {
     "data": {
      "text/plain": [
       "1.0"
      ]
     },
     "execution_count": 59,
     "metadata": {},
     "output_type": "execute_result"
    }
   ],
   "source": [
    "q1=np.percentile(bank[\"CreditCard\"],25)\n",
    "q3=np.percentile(bank[\"CreditCard\"],75)\n",
    "IQR=q3-q1\n",
    "IQR"
   ]
  },
  {
   "cell_type": "markdown",
   "id": "4eaf8b2b",
   "metadata": {},
   "source": [
    "##### Variance"
   ]
  },
  {
   "cell_type": "code",
   "execution_count": 60,
   "id": "0ac5aa2b",
   "metadata": {},
   "outputs": [
    {
     "data": {
      "text/plain": [
       "131.37788544000057"
      ]
     },
     "execution_count": 60,
     "metadata": {},
     "output_type": "execute_result"
    }
   ],
   "source": [
    "np.var(bank[\"Age\"])"
   ]
  },
  {
   "cell_type": "code",
   "execution_count": 61,
   "id": "fe758409",
   "metadata": {},
   "outputs": [
    {
     "data": {
      "text/plain": [
       "131.48765884000036"
      ]
     },
     "execution_count": 61,
     "metadata": {},
     "output_type": "execute_result"
    }
   ],
   "source": [
    "np.var(bank[\"Experience\"])"
   ]
  },
  {
   "cell_type": "code",
   "execution_count": 62,
   "id": "1112f11c",
   "metadata": {},
   "outputs": [
    {
     "data": {
      "text/plain": [
       "2118.680414360002"
      ]
     },
     "execution_count": 62,
     "metadata": {},
     "output_type": "execute_result"
    }
   ],
   "source": [
    "np.var(bank[\"Income\"])"
   ]
  },
  {
   "cell_type": "code",
   "execution_count": 63,
   "id": "f0bd1d24",
   "metadata": {},
   "outputs": [
    {
     "data": {
      "text/plain": [
       "1.3168670399999978"
      ]
     },
     "execution_count": 63,
     "metadata": {},
     "output_type": "execute_result"
    }
   ],
   "source": [
    "np.var(bank[\"Family\"])"
   ]
  },
  {
   "cell_type": "code",
   "execution_count": 64,
   "id": "ce0c80e3",
   "metadata": {},
   "outputs": [
    {
     "data": {
      "text/plain": [
       "3.053726134711062"
      ]
     },
     "execution_count": 64,
     "metadata": {},
     "output_type": "execute_result"
    }
   ],
   "source": [
    "np.var(bank[\"CCAvg\"])"
   ]
  },
  {
   "cell_type": "code",
   "execution_count": 65,
   "id": "b0a71e79",
   "metadata": {},
   "outputs": [
    {
     "data": {
      "text/plain": [
       "0.7052389999999473"
      ]
     },
     "execution_count": 65,
     "metadata": {},
     "output_type": "execute_result"
    }
   ],
   "source": [
    "np.var(bank[\"Education\"])"
   ]
  },
  {
   "cell_type": "code",
   "execution_count": 66,
   "id": "477a3c79",
   "metadata": {},
   "outputs": [
    {
     "data": {
      "text/plain": [
       "10343.62839855938"
      ]
     },
     "execution_count": 66,
     "metadata": {},
     "output_type": "execute_result"
    }
   ],
   "source": [
    "np.var(bank[\"Mortgage\"])"
   ]
  },
  {
   "cell_type": "code",
   "execution_count": 67,
   "id": "4d3e0530",
   "metadata": {},
   "outputs": [
    {
     "data": {
      "text/plain": [
       "0.08678399999999314"
      ]
     },
     "execution_count": 67,
     "metadata": {},
     "output_type": "execute_result"
    }
   ],
   "source": [
    "np.var(bank[\"Personal Loan\"])"
   ]
  },
  {
   "cell_type": "code",
   "execution_count": 68,
   "id": "fbfca69b",
   "metadata": {},
   "outputs": [
    {
     "data": {
      "text/plain": [
       "0.0935006399999973"
      ]
     },
     "execution_count": 68,
     "metadata": {},
     "output_type": "execute_result"
    }
   ],
   "source": [
    "np.var(bank[\"Securities Account\"])"
   ]
  },
  {
   "cell_type": "code",
   "execution_count": 69,
   "id": "2de78aa3",
   "metadata": {},
   "outputs": [
    {
     "data": {
      "text/plain": [
       "0.05675184000000552"
      ]
     },
     "execution_count": 69,
     "metadata": {},
     "output_type": "execute_result"
    }
   ],
   "source": [
    "np.var(bank[\"CD Account\"])"
   ]
  },
  {
   "cell_type": "code",
   "execution_count": 70,
   "id": "2acdeca6",
   "metadata": {},
   "outputs": [
    {
     "data": {
      "text/plain": [
       "0.24062975999999453"
      ]
     },
     "execution_count": 70,
     "metadata": {},
     "output_type": "execute_result"
    }
   ],
   "source": [
    "np.var(bank[\"Online\"])"
   ]
  },
  {
   "cell_type": "code",
   "execution_count": 71,
   "id": "a06d6056",
   "metadata": {},
   "outputs": [
    {
     "data": {
      "text/plain": [
       "0.2075640000000132"
      ]
     },
     "execution_count": 71,
     "metadata": {},
     "output_type": "execute_result"
    }
   ],
   "source": [
    "np.var(bank[\"CreditCard\"])"
   ]
  },
  {
   "cell_type": "markdown",
   "id": "1dab8d61",
   "metadata": {},
   "source": [
    "##### Standard Deviation"
   ]
  },
  {
   "cell_type": "code",
   "execution_count": 72,
   "id": "46f6aa69",
   "metadata": {},
   "outputs": [
    {
     "data": {
      "text/plain": [
       "11.462019256658076"
      ]
     },
     "execution_count": 72,
     "metadata": {},
     "output_type": "execute_result"
    }
   ],
   "source": [
    "np.std(bank[\"Age\"])"
   ]
  },
  {
   "cell_type": "code",
   "execution_count": 73,
   "id": "f201c92c",
   "metadata": {},
   "outputs": [
    {
     "data": {
      "text/plain": [
       "11.466806828406956"
      ]
     },
     "execution_count": 73,
     "metadata": {},
     "output_type": "execute_result"
    }
   ],
   "source": [
    "np.std(bank[\"Experience\"])"
   ]
  },
  {
   "cell_type": "code",
   "execution_count": 74,
   "id": "9af1452e",
   "metadata": {},
   "outputs": [
    {
     "data": {
      "text/plain": [
       "46.02912571796256"
      ]
     },
     "execution_count": 74,
     "metadata": {},
     "output_type": "execute_result"
    }
   ],
   "source": [
    "np.std(bank[\"Income\"])"
   ]
  },
  {
   "cell_type": "code",
   "execution_count": 75,
   "id": "7a7da7d9",
   "metadata": {},
   "outputs": [
    {
     "data": {
      "text/plain": [
       "1.1475482734944085"
      ]
     },
     "execution_count": 75,
     "metadata": {},
     "output_type": "execute_result"
    }
   ],
   "source": [
    "np.std(bank[\"Family\"])"
   ]
  },
  {
   "cell_type": "code",
   "execution_count": 76,
   "id": "6c3a1045",
   "metadata": {},
   "outputs": [
    {
     "data": {
      "text/plain": [
       "0.8397850915561358"
      ]
     },
     "execution_count": 76,
     "metadata": {},
     "output_type": "execute_result"
    }
   ],
   "source": [
    "np.std(bank[\"Education\"])"
   ]
  },
  {
   "cell_type": "code",
   "execution_count": 77,
   "id": "c825ba51",
   "metadata": {},
   "outputs": [
    {
     "data": {
      "text/plain": [
       "101.70363021327891"
      ]
     },
     "execution_count": 77,
     "metadata": {},
     "output_type": "execute_result"
    }
   ],
   "source": [
    "np.std(bank[\"Mortgage\"])"
   ]
  },
  {
   "cell_type": "code",
   "execution_count": 78,
   "id": "409d1cf4",
   "metadata": {},
   "outputs": [
    {
     "data": {
      "text/plain": [
       "0.29459124223233984"
      ]
     },
     "execution_count": 78,
     "metadata": {},
     "output_type": "execute_result"
    }
   ],
   "source": [
    "np.std(bank[\"Personal Loan\"])"
   ]
  },
  {
   "cell_type": "code",
   "execution_count": 79,
   "id": "d98ef6e1",
   "metadata": {},
   "outputs": [
    {
     "data": {
      "text/plain": [
       "0.30577874353852214"
      ]
     },
     "execution_count": 79,
     "metadata": {},
     "output_type": "execute_result"
    }
   ],
   "source": [
    "np.std(bank[\"Securities Account\"])"
   ]
  },
  {
   "cell_type": "code",
   "execution_count": 80,
   "id": "77ae1283",
   "metadata": {},
   "outputs": [
    {
     "data": {
      "text/plain": [
       "0.23822644689455771"
      ]
     },
     "execution_count": 80,
     "metadata": {},
     "output_type": "execute_result"
    }
   ],
   "source": [
    "np.std(bank[\"CD Account\"])"
   ]
  },
  {
   "cell_type": "code",
   "execution_count": 81,
   "id": "a2464e44",
   "metadata": {},
   "outputs": [
    {
     "data": {
      "text/plain": [
       "0.4905402735759772"
      ]
     },
     "execution_count": 81,
     "metadata": {},
     "output_type": "execute_result"
    }
   ],
   "source": [
    "np.std(bank[\"Online\"])"
   ]
  },
  {
   "cell_type": "code",
   "execution_count": 82,
   "id": "64c9d6f8",
   "metadata": {},
   "outputs": [
    {
     "data": {
      "text/plain": [
       "0.4555919226676579"
      ]
     },
     "execution_count": 82,
     "metadata": {},
     "output_type": "execute_result"
    }
   ],
   "source": [
    "np.std(bank[\"CreditCard\"])"
   ]
  },
  {
   "cell_type": "markdown",
   "id": "4bec9b54",
   "metadata": {},
   "source": [
    "## 10. What statistical method will you use to examine the presence of a linear relationship between age and experience variables? Also, create a plot to illustrate this relationship.\n"
   ]
  },
  {
   "cell_type": "markdown",
   "id": "a054c34f",
   "metadata": {},
   "source": [
    "#### Linear Relationship between two variables\n",
    "\n",
    " + statistical concept that describes how one variable changes in a constant and proportional manner with respect to changes in the other variable.\n",
    " + when two variables have a linear relationship, their relationship can be represented by a straight line when plotted on a graph.\n",
    "\n"
   ]
  },
  {
   "cell_type": "markdown",
   "id": "7189de91",
   "metadata": {},
   "source": [
    "+ Using a scatter plot we can establish linear relationship between two variables."
   ]
  },
  {
   "cell_type": "markdown",
   "id": "8485d6e6",
   "metadata": {},
   "source": [
    "###### Key characteristics \n",
    "+ Proportionality\n",
    "+ Constant Slope\n",
    "+ Direction\n",
    "+ Linearity on a Scatter Plot"
   ]
  },
  {
   "cell_type": "code",
   "execution_count": 21,
   "id": "2984231e",
   "metadata": {},
   "outputs": [
    {
     "data": {
      "image/png": "[encoded data removed]",
      "text/plain": [
       "<Figure size 640x480 with 1 Axes>"
      ]
     },
     "metadata": {},
     "output_type": "display_data"
    }
   ],
   "source": [
    "x=bank.Age\n",
    "y=bank.Experience\n",
    "plt.scatter(x, y, label=\"Data Points\", color=\"green\", marker=\"o\")\n",
    "plt.show()"
   ]
  },
  {
   "cell_type": "markdown",
   "id": "756dc66d",
   "metadata": {},
   "source": [
    "## 11. What is the most frequent family size observed in this dataset?\n"
   ]
  },
  {
   "cell_type": "code",
   "execution_count": 84,
   "id": "46c8942a",
   "metadata": {},
   "outputs": [
    {
     "data": {
      "text/plain": [
       "1    1472\n",
       "2    1296\n",
       "4    1222\n",
       "3    1010\n",
       "Name: Family, dtype: int64"
      ]
     },
     "execution_count": 84,
     "metadata": {},
     "output_type": "execute_result"
    }
   ],
   "source": [
    "bank.Family.value_counts()"
   ]
  },
  {
   "cell_type": "markdown",
   "id": "78e260f6",
   "metadata": {},
   "source": [
    "The most frequent family size observed in this dataset is 1."
   ]
  },
  {
   "cell_type": "markdown",
   "id": "71d638c6",
   "metadata": {},
   "source": [
    "## 12. What is the percentage of variation you can observe in the ‘Income’ variable?\n"
   ]
  },
  {
   "cell_type": "code",
   "execution_count": 85,
   "id": "1f0f9b5c",
   "metadata": {},
   "outputs": [
    {
     "data": {
      "text/plain": [
       "62.39814097758612"
      ]
     },
     "execution_count": 85,
     "metadata": {},
     "output_type": "execute_result"
    }
   ],
   "source": [
    "cv = bank['Income'].std(skipna=True) /bank['Income'].mean(skipna=True) * 100\n",
    "cv"
   ]
  },
  {
   "cell_type": "markdown",
   "id": "985df1f2",
   "metadata": {},
   "source": [
    "+ Percentage of Variation for Income Variable is 62.39814097752612"
   ]
  },
  {
   "cell_type": "markdown",
   "id": "b55e31c0",
   "metadata": {},
   "source": [
    "## 13. The ‘Mortgage’ variable has a lot of zeroes. Impute with some business logical value that you feel fit for the data"
   ]
  },
  {
   "cell_type": "markdown",
   "id": "98ad8d4a",
   "metadata": {},
   "source": [
    "\n",
    "Imputing missing values or zeros in the 'Mortgage' variable with a business-logical value often depends on the context of  data and the specific goals of our analysis. One way to see the zeroes in the 'Mortgage variable is that the customer is not having any mortgaged property. Beside there are a few common approaches to consider:\n",
    "\n",
    "+ Impute with Median or Mean: One common approach is to impute missing or zero values with the median or mean of the 'Mortgage' variable. This approach assumes that the missing values or zeros are missing at random and do not carry specific information. Calculating the median or mean of the non-zero values can provide a central tendency value.\n",
    "+ Impute with a Specific Value: Depending on the context, you might have a specific business-logical value to impute, such as a minimum mortgage amount that makes sense in your domain.\n",
    "+ Impute based on Other Variables: You can also impute missing or zero values based on relationships with other variables in your dataset. For instance, you could use regression models or machine learning algorithms to predict 'Mortgage' values based on other features.\n",
    "+ Remove Rows with Missing Values:If the 'Mortgage' variable is essential to your analysis and imputing values is not appropriate, you may consider removing rows with missing or zero values if it doesn't significantly reduce your dataset's size or introduce bias.\n",
    "The choice of imputation method should align with your understanding of the data and your analysis goals. It's important to document and justify your imputation strategy in your analysis to ensure transparency and reproducibility. Additionally, consult with domain experts if available, as they may provide valuable insights into what business-logical values make the most sense for your specific dataset."
   ]
  },
  {
   "cell_type": "markdown",
   "id": "453574e3",
   "metadata": {},
   "source": [
    "## 14. Plot a density curve of the CCAvg variable for the customers who possess credit cards and write an interpretation about its distribution.\n"
   ]
  },
  {
   "cell_type": "code",
   "execution_count": 86,
   "id": "56965187",
   "metadata": {},
   "outputs": [
    {
     "data": {
      "text/plain": [
       "0    3530\n",
       "1    1470\n",
       "Name: CreditCard, dtype: int64"
      ]
     },
     "execution_count": 86,
     "metadata": {},
     "output_type": "execute_result"
    }
   ],
   "source": [
    "bank[\"CreditCard\"].value_counts()"
   ]
  },
  {
   "cell_type": "markdown",
   "id": "30b829f4",
   "metadata": {},
   "source": [
    "No. of people who posses credit card is 1470"
   ]
  },
  {
   "cell_type": "code",
   "execution_count": 111,
   "id": "436fd6a6",
   "metadata": {
    "scrolled": true
   },
   "outputs": [
    {
     "data": {
      "text/plain": [
       "4       1.0\n",
       "7       0.3\n",
       "15      1.5\n",
       "19      0.5\n",
       "24      3.9\n",
       "       ... \n",
       "4984    2.3\n",
       "4988    2.5\n",
       "4990    2.0\n",
       "4991    1.9\n",
       "4999    0.8\n",
       "Name: CCAvg, Length: 1470, dtype: float64"
      ]
     },
     "execution_count": 111,
     "metadata": {},
     "output_type": "execute_result"
    }
   ],
   "source": [
    "bank[bank[\"CreditCard\"]==1][\"CCAvg\"]"
   ]
  },
  {
   "cell_type": "code",
   "execution_count": 22,
   "id": "6e055e03",
   "metadata": {},
   "outputs": [
    {
     "data": {
      "image/png": "[encoded data removed]",
      "text/plain": [
       "<Figure size 640x480 with 1 Axes>"
      ]
     },
     "metadata": {},
     "output_type": "display_data"
    }
   ],
   "source": [
    "sns.kdeplot(bank[bank[\"CreditCard\"]==1][\"CCAvg\"])\n",
    "plt.show()"
   ]
  },
  {
   "cell_type": "markdown",
   "id": "61d0f8e2",
   "metadata": {},
   "source": [
    "###### Interpretation"
   ]
  },
  {
   "cell_type": "markdown",
   "id": "1891d804",
   "metadata": {},
   "source": [
    "+ we can see that from the chart that it is right skewed which signifies that there are less credit card holder whose CCAvg is higher than mean CCAvg."
   ]
  },
  {
   "cell_type": "markdown",
   "id": "6de0632d",
   "metadata": {},
   "source": [
    "## 15. Do you see any outliers in the dataset? If yes, what plot you would think will be suitable to showcase to the stakeholders?"
   ]
  },
  {
   "cell_type": "code",
   "execution_count": 89,
   "id": "989f6390",
   "metadata": {},
   "outputs": [
    {
     "data": {
      "text/html": [
       "<div>\n",
       "<style scoped>\n",
       "    .dataframe tbody tr th:only-of-type {\n",
       "        vertical-align: middle;\n",
       "    }\n",
       "\n",
       "    .dataframe tbody tr th {\n",
       "        vertical-align: top;\n",
       "    }\n",
       "\n",
       "    .dataframe thead th {\n",
       "        text-align: right;\n",
       "    }\n",
       "</style>\n",
       "<table border=\"1\" class=\"dataframe\">\n",
       "  <thead>\n",
       "    <tr style=\"text-align: right;\">\n",
       "      <th></th>\n",
       "      <th>ID</th>\n",
       "      <th>Age</th>\n",
       "      <th>Experience</th>\n",
       "      <th>Income</th>\n",
       "      <th>ZIP Code</th>\n",
       "      <th>Family</th>\n",
       "      <th>CCAvg</th>\n",
       "      <th>Education</th>\n",
       "      <th>Mortgage</th>\n",
       "      <th>Personal Loan</th>\n",
       "      <th>Securities Account</th>\n",
       "      <th>CD Account</th>\n",
       "      <th>Online</th>\n",
       "      <th>CreditCard</th>\n",
       "    </tr>\n",
       "  </thead>\n",
       "  <tbody>\n",
       "    <tr>\n",
       "      <th>count</th>\n",
       "      <td>5000.000000</td>\n",
       "      <td>5000.000000</td>\n",
       "      <td>5000.000000</td>\n",
       "      <td>5000.000000</td>\n",
       "      <td>5000.000000</td>\n",
       "      <td>5000.000000</td>\n",
       "      <td>5000.000000</td>\n",
       "      <td>5000.000000</td>\n",
       "      <td>5000.000000</td>\n",
       "      <td>5000.000000</td>\n",
       "      <td>5000.000000</td>\n",
       "      <td>5000.00000</td>\n",
       "      <td>5000.000000</td>\n",
       "      <td>5000.000000</td>\n",
       "    </tr>\n",
       "    <tr>\n",
       "      <th>mean</th>\n",
       "      <td>2500.500000</td>\n",
       "      <td>45.338400</td>\n",
       "      <td>20.104600</td>\n",
       "      <td>73.774200</td>\n",
       "      <td>93152.503000</td>\n",
       "      <td>2.396400</td>\n",
       "      <td>1.937913</td>\n",
       "      <td>1.881000</td>\n",
       "      <td>56.498800</td>\n",
       "      <td>0.096000</td>\n",
       "      <td>0.104400</td>\n",
       "      <td>0.06040</td>\n",
       "      <td>0.596800</td>\n",
       "      <td>0.294000</td>\n",
       "    </tr>\n",
       "    <tr>\n",
       "      <th>std</th>\n",
       "      <td>1443.520003</td>\n",
       "      <td>11.463166</td>\n",
       "      <td>11.467954</td>\n",
       "      <td>46.033729</td>\n",
       "      <td>2121.852197</td>\n",
       "      <td>1.147663</td>\n",
       "      <td>1.747666</td>\n",
       "      <td>0.839869</td>\n",
       "      <td>101.713802</td>\n",
       "      <td>0.294621</td>\n",
       "      <td>0.305809</td>\n",
       "      <td>0.23825</td>\n",
       "      <td>0.490589</td>\n",
       "      <td>0.455637</td>\n",
       "    </tr>\n",
       "    <tr>\n",
       "      <th>min</th>\n",
       "      <td>1.000000</td>\n",
       "      <td>23.000000</td>\n",
       "      <td>-3.000000</td>\n",
       "      <td>8.000000</td>\n",
       "      <td>9307.000000</td>\n",
       "      <td>1.000000</td>\n",
       "      <td>0.000000</td>\n",
       "      <td>1.000000</td>\n",
       "      <td>0.000000</td>\n",
       "      <td>0.000000</td>\n",
       "      <td>0.000000</td>\n",
       "      <td>0.00000</td>\n",
       "      <td>0.000000</td>\n",
       "      <td>0.000000</td>\n",
       "    </tr>\n",
       "    <tr>\n",
       "      <th>25%</th>\n",
       "      <td>1250.750000</td>\n",
       "      <td>35.000000</td>\n",
       "      <td>10.000000</td>\n",
       "      <td>39.000000</td>\n",
       "      <td>91911.000000</td>\n",
       "      <td>1.000000</td>\n",
       "      <td>0.700000</td>\n",
       "      <td>1.000000</td>\n",
       "      <td>0.000000</td>\n",
       "      <td>0.000000</td>\n",
       "      <td>0.000000</td>\n",
       "      <td>0.00000</td>\n",
       "      <td>0.000000</td>\n",
       "      <td>0.000000</td>\n",
       "    </tr>\n",
       "    <tr>\n",
       "      <th>50%</th>\n",
       "      <td>2500.500000</td>\n",
       "      <td>45.000000</td>\n",
       "      <td>20.000000</td>\n",
       "      <td>64.000000</td>\n",
       "      <td>93437.000000</td>\n",
       "      <td>2.000000</td>\n",
       "      <td>1.500000</td>\n",
       "      <td>2.000000</td>\n",
       "      <td>0.000000</td>\n",
       "      <td>0.000000</td>\n",
       "      <td>0.000000</td>\n",
       "      <td>0.00000</td>\n",
       "      <td>1.000000</td>\n",
       "      <td>0.000000</td>\n",
       "    </tr>\n",
       "    <tr>\n",
       "      <th>75%</th>\n",
       "      <td>3750.250000</td>\n",
       "      <td>55.000000</td>\n",
       "      <td>30.000000</td>\n",
       "      <td>98.000000</td>\n",
       "      <td>94608.000000</td>\n",
       "      <td>3.000000</td>\n",
       "      <td>2.500000</td>\n",
       "      <td>3.000000</td>\n",
       "      <td>101.000000</td>\n",
       "      <td>0.000000</td>\n",
       "      <td>0.000000</td>\n",
       "      <td>0.00000</td>\n",
       "      <td>1.000000</td>\n",
       "      <td>1.000000</td>\n",
       "    </tr>\n",
       "    <tr>\n",
       "      <th>max</th>\n",
       "      <td>5000.000000</td>\n",
       "      <td>67.000000</td>\n",
       "      <td>43.000000</td>\n",
       "      <td>224.000000</td>\n",
       "      <td>96651.000000</td>\n",
       "      <td>4.000000</td>\n",
       "      <td>10.000000</td>\n",
       "      <td>3.000000</td>\n",
       "      <td>635.000000</td>\n",
       "      <td>1.000000</td>\n",
       "      <td>1.000000</td>\n",
       "      <td>1.00000</td>\n",
       "      <td>1.000000</td>\n",
       "      <td>1.000000</td>\n",
       "    </tr>\n",
       "  </tbody>\n",
       "</table>\n",
       "</div>"
      ],
      "text/plain": [
       "                ID          Age   Experience       Income      ZIP Code  \\\n",
       "count  5000.000000  5000.000000  5000.000000  5000.000000   5000.000000   \n",
       "mean   2500.500000    45.338400    20.104600    73.774200  93152.503000   \n",
       "std    1443.520003    11.463166    11.467954    46.033729   2121.852197   \n",
       "min       1.000000    23.000000    -3.000000     8.000000   9307.000000   \n",
       "25%    1250.750000    35.000000    10.000000    39.000000  91911.000000   \n",
       "50%    2500.500000    45.000000    20.000000    64.000000  93437.000000   \n",
       "75%    3750.250000    55.000000    30.000000    98.000000  94608.000000   \n",
       "max    5000.000000    67.000000    43.000000   224.000000  96651.000000   \n",
       "\n",
       "            Family        CCAvg    Education     Mortgage  Personal Loan  \\\n",
       "count  5000.000000  5000.000000  5000.000000  5000.000000    5000.000000   \n",
       "mean      2.396400     1.937913     1.881000    56.498800       0.096000   \n",
       "std       1.147663     1.747666     0.839869   101.713802       0.294621   \n",
       "min       1.000000     0.000000     1.000000     0.000000       0.000000   \n",
       "25%       1.000000     0.700000     1.000000     0.000000       0.000000   \n",
       "50%       2.000000     1.500000     2.000000     0.000000       0.000000   \n",
       "75%       3.000000     2.500000     3.000000   101.000000       0.000000   \n",
       "max       4.000000    10.000000     3.000000   635.000000       1.000000   \n",
       "\n",
       "       Securities Account  CD Account       Online   CreditCard  \n",
       "count         5000.000000  5000.00000  5000.000000  5000.000000  \n",
       "mean             0.104400     0.06040     0.596800     0.294000  \n",
       "std              0.305809     0.23825     0.490589     0.455637  \n",
       "min              0.000000     0.00000     0.000000     0.000000  \n",
       "25%              0.000000     0.00000     0.000000     0.000000  \n",
       "50%              0.000000     0.00000     1.000000     0.000000  \n",
       "75%              0.000000     0.00000     1.000000     1.000000  \n",
       "max              1.000000     1.00000     1.000000     1.000000  "
      ]
     },
     "execution_count": 89,
     "metadata": {},
     "output_type": "execute_result"
    }
   ],
   "source": [
    "bank.describe()"
   ]
  },
  {
   "cell_type": "markdown",
   "id": "76930f44",
   "metadata": {},
   "source": [
    "+ Yes there are outliers in the dataset which we can identify with the help of above functions.\n",
    "+ Outliers can be seen in:  Income, CCAvg, Mortgage columns.\n",
    "+ with the help of box plot we can show outliers in the data set"
   ]
  },
  {
   "cell_type": "code",
   "execution_count": 23,
   "id": "45e77f05",
   "metadata": {},
   "outputs": [
    {
     "data": {
      "image/png": "[encoded data removed]",
      "text/plain": [
       "<Figure size 640x480 with 1 Axes>"
      ]
     },
     "metadata": {},
     "output_type": "display_data"
    }
   ],
   "source": [
    "sns.boxplot(data=bank.Income)\n",
    "plt.show()"
   ]
  },
  {
   "cell_type": "code",
   "execution_count": 24,
   "id": "c9ea5a25",
   "metadata": {},
   "outputs": [
    {
     "data": {
      "image/png": "[encoded data removed]",
      "text/plain": [
       "<Figure size 640x480 with 1 Axes>"
      ]
     },
     "metadata": {},
     "output_type": "display_data"
    }
   ],
   "source": [
    "sns.boxplot(data=bank.CCAvg)\n",
    "plt.show()"
   ]
  },
  {
   "cell_type": "code",
   "execution_count": 25,
   "id": "0fd5f255",
   "metadata": {},
   "outputs": [
    {
     "data": {
      "image/png": "[encoded data removed]",
      "text/plain": [
       "<Figure size 640x480 with 1 Axes>"
      ]
     },
     "metadata": {},
     "output_type": "display_data"
    }
   ],
   "source": [
    "sns.boxplot(data=bank.Mortgage)\n",
    "plt.show()"
   ]
  },
  {
   "cell_type": "markdown",
   "id": "6504ada2",
   "metadata": {},
   "source": [
    "## 16. Give us the decile values of the variable ‘Income’ in the dataset"
   ]
  },
  {
   "cell_type": "code",
   "execution_count": 94,
   "id": "836129a5",
   "metadata": {},
   "outputs": [
    {
     "data": {
      "text/plain": [
       "array([ 22. ,  33. ,  42. ,  52. ,  64. ,  78. ,  88.3, 113. , 145. ,\n",
       "       224. ])"
      ]
     },
     "execution_count": 94,
     "metadata": {},
     "output_type": "execute_result"
    }
   ],
   "source": [
    "deciles = np.percentile(bank['Income'],np.arange(10, 110, 10))\n",
    "deciles"
   ]
  },
  {
   "cell_type": "markdown",
   "id": "5cfd60c2",
   "metadata": {},
   "source": [
    "## 17. Give the IQR of all the variables which are quantitative and continuous"
   ]
  },
  {
   "cell_type": "markdown",
   "id": "96414691",
   "metadata": {},
   "source": [
    "Continuous numbers, often referred to as continuous variables or real numbers, represent quantities that can take on an infinite number of values within a given range. Unlike discrete variables, continuous variables can have fractional or decimal values, and there are no \"gaps\" or jumps between possible values. Here are some key characteristics of continuous numbers:\n",
    "\n",
    "Infinite Precision: Continuous numbers can be measured or represented with arbitrary precision. For example, you can measure the length of an object as 5.2378 meters, and you could continue adding more decimal places if needed.\n",
    "\n",
    "Fractional Values: Continuous variables can take on fractional or decimal values, not just whole numbers. For instance, measurements like 2.5 inches, 3.14 radians, or 98.6 degrees Fahrenheit are continuous.\n",
    "\n",
    "Unlimited Range: Continuous variables have an unlimited range. They can take on values from negative infinity to positive infinity within a given range. For example, the temperature in degrees Celsius can theoretically be any real number between negative infinity and positive infinity.\n",
    "\n",
    "Smooth Transitions: There are no abrupt transitions or gaps between values. As you move along the number line, you can continuously vary the value of a continuous variable.\n",
    "\n",
    "Examples: Common examples of continuous variables include length, height, weight, temperature, time, age (when measured with fractions or decimals), and various physical and scientific measurements.\n",
    "\n",
    "Statistical Distributions: Many statistical distributions, such as the normal distribution or the uniform distribution, describe continuous variables because they can take on a wide range of values.\n",
    "\n",
    "Continuous numbers are essential in various fields, including mathematics, science, engineering, economics, and statistics, where precision and the ability to represent a wide range of values accurately are important. They are often used in mathematical modeling, statistical analysis, and scientific research.\n"
   ]
  },
  {
   "cell_type": "code",
   "execution_count": 122,
   "id": "6c739cd8",
   "metadata": {},
   "outputs": [
    {
     "data": {
      "text/plain": [
       "1.8"
      ]
     },
     "execution_count": 122,
     "metadata": {},
     "output_type": "execute_result"
    }
   ],
   "source": [
    "q1=np.percentile(bank[\"CCAvg\"],25)\n",
    "q3=np.percentile(bank[\"CCAvg\"],75)\n",
    "IQR=q3-q1\n",
    "IQR"
   ]
  },
  {
   "cell_type": "markdown",
   "id": "4f600718",
   "metadata": {},
   "source": [
    "### 18.Do the higher-income holders spend more on credit cards?"
   ]
  },
  {
   "cell_type": "code",
   "execution_count": 125,
   "id": "565f0bcd",
   "metadata": {},
   "outputs": [
    {
     "data": {
      "text/html": [
       "<div>\n",
       "<style scoped>\n",
       "    .dataframe tbody tr th:only-of-type {\n",
       "        vertical-align: middle;\n",
       "    }\n",
       "\n",
       "    .dataframe tbody tr th {\n",
       "        vertical-align: top;\n",
       "    }\n",
       "\n",
       "    .dataframe thead th {\n",
       "        text-align: right;\n",
       "    }\n",
       "</style>\n",
       "<table border=\"1\" class=\"dataframe\">\n",
       "  <thead>\n",
       "    <tr style=\"text-align: right;\">\n",
       "      <th></th>\n",
       "      <th>ID</th>\n",
       "      <th>Age</th>\n",
       "      <th>Experience</th>\n",
       "      <th>Income</th>\n",
       "      <th>ZIP Code</th>\n",
       "      <th>Family</th>\n",
       "      <th>CCAvg</th>\n",
       "      <th>Education</th>\n",
       "      <th>Mortgage</th>\n",
       "      <th>Personal Loan</th>\n",
       "      <th>Securities Account</th>\n",
       "      <th>CD Account</th>\n",
       "      <th>Online</th>\n",
       "      <th>CreditCard</th>\n",
       "    </tr>\n",
       "  </thead>\n",
       "  <tbody>\n",
       "    <tr>\n",
       "      <th>3</th>\n",
       "      <td>4</td>\n",
       "      <td>35</td>\n",
       "      <td>9</td>\n",
       "      <td>100</td>\n",
       "      <td>94112</td>\n",
       "      <td>1</td>\n",
       "      <td>2.700000</td>\n",
       "      <td>2</td>\n",
       "      <td>0</td>\n",
       "      <td>0</td>\n",
       "      <td>0</td>\n",
       "      <td>0</td>\n",
       "      <td>0</td>\n",
       "      <td>0</td>\n",
       "    </tr>\n",
       "    <tr>\n",
       "      <th>8</th>\n",
       "      <td>9</td>\n",
       "      <td>35</td>\n",
       "      <td>10</td>\n",
       "      <td>81</td>\n",
       "      <td>90089</td>\n",
       "      <td>3</td>\n",
       "      <td>0.600000</td>\n",
       "      <td>2</td>\n",
       "      <td>104</td>\n",
       "      <td>0</td>\n",
       "      <td>0</td>\n",
       "      <td>0</td>\n",
       "      <td>1</td>\n",
       "      <td>0</td>\n",
       "    </tr>\n",
       "    <tr>\n",
       "      <th>9</th>\n",
       "      <td>10</td>\n",
       "      <td>34</td>\n",
       "      <td>9</td>\n",
       "      <td>180</td>\n",
       "      <td>93023</td>\n",
       "      <td>1</td>\n",
       "      <td>8.900000</td>\n",
       "      <td>3</td>\n",
       "      <td>0</td>\n",
       "      <td>1</td>\n",
       "      <td>0</td>\n",
       "      <td>0</td>\n",
       "      <td>0</td>\n",
       "      <td>0</td>\n",
       "    </tr>\n",
       "    <tr>\n",
       "      <th>10</th>\n",
       "      <td>11</td>\n",
       "      <td>65</td>\n",
       "      <td>39</td>\n",
       "      <td>105</td>\n",
       "      <td>94710</td>\n",
       "      <td>4</td>\n",
       "      <td>2.400000</td>\n",
       "      <td>3</td>\n",
       "      <td>0</td>\n",
       "      <td>0</td>\n",
       "      <td>0</td>\n",
       "      <td>0</td>\n",
       "      <td>0</td>\n",
       "      <td>0</td>\n",
       "    </tr>\n",
       "    <tr>\n",
       "      <th>12</th>\n",
       "      <td>13</td>\n",
       "      <td>48</td>\n",
       "      <td>23</td>\n",
       "      <td>114</td>\n",
       "      <td>93106</td>\n",
       "      <td>2</td>\n",
       "      <td>3.800000</td>\n",
       "      <td>3</td>\n",
       "      <td>0</td>\n",
       "      <td>0</td>\n",
       "      <td>1</td>\n",
       "      <td>0</td>\n",
       "      <td>0</td>\n",
       "      <td>0</td>\n",
       "    </tr>\n",
       "    <tr>\n",
       "      <th>...</th>\n",
       "      <td>...</td>\n",
       "      <td>...</td>\n",
       "      <td>...</td>\n",
       "      <td>...</td>\n",
       "      <td>...</td>\n",
       "      <td>...</td>\n",
       "      <td>...</td>\n",
       "      <td>...</td>\n",
       "      <td>...</td>\n",
       "      <td>...</td>\n",
       "      <td>...</td>\n",
       "      <td>...</td>\n",
       "      <td>...</td>\n",
       "      <td>...</td>\n",
       "    </tr>\n",
       "    <tr>\n",
       "      <th>4988</th>\n",
       "      <td>4989</td>\n",
       "      <td>34</td>\n",
       "      <td>8</td>\n",
       "      <td>85</td>\n",
       "      <td>95134</td>\n",
       "      <td>1</td>\n",
       "      <td>2.500000</td>\n",
       "      <td>1</td>\n",
       "      <td>136</td>\n",
       "      <td>0</td>\n",
       "      <td>0</td>\n",
       "      <td>0</td>\n",
       "      <td>0</td>\n",
       "      <td>1</td>\n",
       "    </tr>\n",
       "    <tr>\n",
       "      <th>4991</th>\n",
       "      <td>4992</td>\n",
       "      <td>51</td>\n",
       "      <td>25</td>\n",
       "      <td>92</td>\n",
       "      <td>91330</td>\n",
       "      <td>1</td>\n",
       "      <td>1.900000</td>\n",
       "      <td>2</td>\n",
       "      <td>100</td>\n",
       "      <td>0</td>\n",
       "      <td>0</td>\n",
       "      <td>0</td>\n",
       "      <td>0</td>\n",
       "      <td>1</td>\n",
       "    </tr>\n",
       "    <tr>\n",
       "      <th>4993</th>\n",
       "      <td>4994</td>\n",
       "      <td>45</td>\n",
       "      <td>21</td>\n",
       "      <td>218</td>\n",
       "      <td>91801</td>\n",
       "      <td>2</td>\n",
       "      <td>6.666667</td>\n",
       "      <td>1</td>\n",
       "      <td>0</td>\n",
       "      <td>0</td>\n",
       "      <td>0</td>\n",
       "      <td>0</td>\n",
       "      <td>1</td>\n",
       "      <td>0</td>\n",
       "    </tr>\n",
       "    <tr>\n",
       "      <th>4994</th>\n",
       "      <td>4995</td>\n",
       "      <td>64</td>\n",
       "      <td>40</td>\n",
       "      <td>75</td>\n",
       "      <td>94588</td>\n",
       "      <td>3</td>\n",
       "      <td>2.000000</td>\n",
       "      <td>3</td>\n",
       "      <td>0</td>\n",
       "      <td>0</td>\n",
       "      <td>0</td>\n",
       "      <td>0</td>\n",
       "      <td>1</td>\n",
       "      <td>0</td>\n",
       "    </tr>\n",
       "    <tr>\n",
       "      <th>4999</th>\n",
       "      <td>5000</td>\n",
       "      <td>28</td>\n",
       "      <td>4</td>\n",
       "      <td>83</td>\n",
       "      <td>92612</td>\n",
       "      <td>3</td>\n",
       "      <td>0.800000</td>\n",
       "      <td>1</td>\n",
       "      <td>0</td>\n",
       "      <td>0</td>\n",
       "      <td>0</td>\n",
       "      <td>0</td>\n",
       "      <td>1</td>\n",
       "      <td>1</td>\n",
       "    </tr>\n",
       "  </tbody>\n",
       "</table>\n",
       "<p>2134 rows × 14 columns</p>\n",
       "</div>"
      ],
      "text/plain": [
       "        ID  Age  Experience  Income  ZIP Code  Family     CCAvg  Education  \\\n",
       "3        4   35           9     100     94112       1  2.700000          2   \n",
       "8        9   35          10      81     90089       3  0.600000          2   \n",
       "9       10   34           9     180     93023       1  8.900000          3   \n",
       "10      11   65          39     105     94710       4  2.400000          3   \n",
       "12      13   48          23     114     93106       2  3.800000          3   \n",
       "...    ...  ...         ...     ...       ...     ...       ...        ...   \n",
       "4988  4989   34           8      85     95134       1  2.500000          1   \n",
       "4991  4992   51          25      92     91330       1  1.900000          2   \n",
       "4993  4994   45          21     218     91801       2  6.666667          1   \n",
       "4994  4995   64          40      75     94588       3  2.000000          3   \n",
       "4999  5000   28           4      83     92612       3  0.800000          1   \n",
       "\n",
       "      Mortgage  Personal Loan  Securities Account  CD Account  Online  \\\n",
       "3            0              0                   0           0       0   \n",
       "8          104              0                   0           0       1   \n",
       "9            0              1                   0           0       0   \n",
       "10           0              0                   0           0       0   \n",
       "12           0              0                   1           0       0   \n",
       "...        ...            ...                 ...         ...     ...   \n",
       "4988       136              0                   0           0       0   \n",
       "4991       100              0                   0           0       0   \n",
       "4993         0              0                   0           0       1   \n",
       "4994         0              0                   0           0       1   \n",
       "4999         0              0                   0           0       1   \n",
       "\n",
       "      CreditCard  \n",
       "3              0  \n",
       "8              0  \n",
       "9              0  \n",
       "10             0  \n",
       "12             0  \n",
       "...          ...  \n",
       "4988           1  \n",
       "4991           1  \n",
       "4993           0  \n",
       "4994           0  \n",
       "4999           1  \n",
       "\n",
       "[2134 rows x 14 columns]"
      ]
     },
     "execution_count": 125,
     "metadata": {},
     "output_type": "execute_result"
    }
   ],
   "source": [
    "Higher_Income=bank[bank[\"Income\"]>=np.mean(bank[\"Income\"])]\n",
    "Higher_Income"
   ]
  },
  {
   "cell_type": "code",
   "execution_count": 127,
   "id": "54965bae",
   "metadata": {},
   "outputs": [
    {
     "data": {
      "text/html": [
       "<div>\n",
       "<style scoped>\n",
       "    .dataframe tbody tr th:only-of-type {\n",
       "        vertical-align: middle;\n",
       "    }\n",
       "\n",
       "    .dataframe tbody tr th {\n",
       "        vertical-align: top;\n",
       "    }\n",
       "\n",
       "    .dataframe thead th {\n",
       "        text-align: right;\n",
       "    }\n",
       "</style>\n",
       "<table border=\"1\" class=\"dataframe\">\n",
       "  <thead>\n",
       "    <tr style=\"text-align: right;\">\n",
       "      <th></th>\n",
       "      <th>ID</th>\n",
       "      <th>Age</th>\n",
       "      <th>Experience</th>\n",
       "      <th>Income</th>\n",
       "      <th>ZIP Code</th>\n",
       "      <th>Family</th>\n",
       "      <th>CCAvg</th>\n",
       "      <th>Education</th>\n",
       "      <th>Mortgage</th>\n",
       "      <th>Personal Loan</th>\n",
       "      <th>Securities Account</th>\n",
       "      <th>CD Account</th>\n",
       "      <th>Online</th>\n",
       "      <th>CreditCard</th>\n",
       "    </tr>\n",
       "  </thead>\n",
       "  <tbody>\n",
       "    <tr>\n",
       "      <th>3</th>\n",
       "      <td>4</td>\n",
       "      <td>35</td>\n",
       "      <td>9</td>\n",
       "      <td>100</td>\n",
       "      <td>94112</td>\n",
       "      <td>1</td>\n",
       "      <td>2.700000</td>\n",
       "      <td>2</td>\n",
       "      <td>0</td>\n",
       "      <td>0</td>\n",
       "      <td>0</td>\n",
       "      <td>0</td>\n",
       "      <td>0</td>\n",
       "      <td>0</td>\n",
       "    </tr>\n",
       "    <tr>\n",
       "      <th>9</th>\n",
       "      <td>10</td>\n",
       "      <td>34</td>\n",
       "      <td>9</td>\n",
       "      <td>180</td>\n",
       "      <td>93023</td>\n",
       "      <td>1</td>\n",
       "      <td>8.900000</td>\n",
       "      <td>3</td>\n",
       "      <td>0</td>\n",
       "      <td>1</td>\n",
       "      <td>0</td>\n",
       "      <td>0</td>\n",
       "      <td>0</td>\n",
       "      <td>0</td>\n",
       "    </tr>\n",
       "    <tr>\n",
       "      <th>10</th>\n",
       "      <td>11</td>\n",
       "      <td>65</td>\n",
       "      <td>39</td>\n",
       "      <td>105</td>\n",
       "      <td>94710</td>\n",
       "      <td>4</td>\n",
       "      <td>2.400000</td>\n",
       "      <td>3</td>\n",
       "      <td>0</td>\n",
       "      <td>0</td>\n",
       "      <td>0</td>\n",
       "      <td>0</td>\n",
       "      <td>0</td>\n",
       "      <td>0</td>\n",
       "    </tr>\n",
       "    <tr>\n",
       "      <th>12</th>\n",
       "      <td>13</td>\n",
       "      <td>48</td>\n",
       "      <td>23</td>\n",
       "      <td>114</td>\n",
       "      <td>93106</td>\n",
       "      <td>2</td>\n",
       "      <td>3.800000</td>\n",
       "      <td>3</td>\n",
       "      <td>0</td>\n",
       "      <td>0</td>\n",
       "      <td>1</td>\n",
       "      <td>0</td>\n",
       "      <td>0</td>\n",
       "      <td>0</td>\n",
       "    </tr>\n",
       "    <tr>\n",
       "      <th>14</th>\n",
       "      <td>15</td>\n",
       "      <td>67</td>\n",
       "      <td>41</td>\n",
       "      <td>112</td>\n",
       "      <td>91741</td>\n",
       "      <td>1</td>\n",
       "      <td>2.000000</td>\n",
       "      <td>1</td>\n",
       "      <td>0</td>\n",
       "      <td>0</td>\n",
       "      <td>1</td>\n",
       "      <td>0</td>\n",
       "      <td>0</td>\n",
       "      <td>0</td>\n",
       "    </tr>\n",
       "    <tr>\n",
       "      <th>...</th>\n",
       "      <td>...</td>\n",
       "      <td>...</td>\n",
       "      <td>...</td>\n",
       "      <td>...</td>\n",
       "      <td>...</td>\n",
       "      <td>...</td>\n",
       "      <td>...</td>\n",
       "      <td>...</td>\n",
       "      <td>...</td>\n",
       "      <td>...</td>\n",
       "      <td>...</td>\n",
       "      <td>...</td>\n",
       "      <td>...</td>\n",
       "      <td>...</td>\n",
       "    </tr>\n",
       "    <tr>\n",
       "      <th>4984</th>\n",
       "      <td>4985</td>\n",
       "      <td>27</td>\n",
       "      <td>1</td>\n",
       "      <td>98</td>\n",
       "      <td>94043</td>\n",
       "      <td>4</td>\n",
       "      <td>2.300000</td>\n",
       "      <td>3</td>\n",
       "      <td>0</td>\n",
       "      <td>0</td>\n",
       "      <td>0</td>\n",
       "      <td>0</td>\n",
       "      <td>0</td>\n",
       "      <td>1</td>\n",
       "    </tr>\n",
       "    <tr>\n",
       "      <th>4986</th>\n",
       "      <td>4987</td>\n",
       "      <td>32</td>\n",
       "      <td>6</td>\n",
       "      <td>78</td>\n",
       "      <td>95825</td>\n",
       "      <td>1</td>\n",
       "      <td>2.900000</td>\n",
       "      <td>3</td>\n",
       "      <td>0</td>\n",
       "      <td>0</td>\n",
       "      <td>0</td>\n",
       "      <td>0</td>\n",
       "      <td>0</td>\n",
       "      <td>0</td>\n",
       "    </tr>\n",
       "    <tr>\n",
       "      <th>4988</th>\n",
       "      <td>4989</td>\n",
       "      <td>34</td>\n",
       "      <td>8</td>\n",
       "      <td>85</td>\n",
       "      <td>95134</td>\n",
       "      <td>1</td>\n",
       "      <td>2.500000</td>\n",
       "      <td>1</td>\n",
       "      <td>136</td>\n",
       "      <td>0</td>\n",
       "      <td>0</td>\n",
       "      <td>0</td>\n",
       "      <td>0</td>\n",
       "      <td>1</td>\n",
       "    </tr>\n",
       "    <tr>\n",
       "      <th>4993</th>\n",
       "      <td>4994</td>\n",
       "      <td>45</td>\n",
       "      <td>21</td>\n",
       "      <td>218</td>\n",
       "      <td>91801</td>\n",
       "      <td>2</td>\n",
       "      <td>6.666667</td>\n",
       "      <td>1</td>\n",
       "      <td>0</td>\n",
       "      <td>0</td>\n",
       "      <td>0</td>\n",
       "      <td>0</td>\n",
       "      <td>1</td>\n",
       "      <td>0</td>\n",
       "    </tr>\n",
       "    <tr>\n",
       "      <th>4994</th>\n",
       "      <td>4995</td>\n",
       "      <td>64</td>\n",
       "      <td>40</td>\n",
       "      <td>75</td>\n",
       "      <td>94588</td>\n",
       "      <td>3</td>\n",
       "      <td>2.000000</td>\n",
       "      <td>3</td>\n",
       "      <td>0</td>\n",
       "      <td>0</td>\n",
       "      <td>0</td>\n",
       "      <td>0</td>\n",
       "      <td>1</td>\n",
       "      <td>0</td>\n",
       "    </tr>\n",
       "  </tbody>\n",
       "</table>\n",
       "<p>1313 rows × 14 columns</p>\n",
       "</div>"
      ],
      "text/plain": [
       "        ID  Age  Experience  Income  ZIP Code  Family     CCAvg  Education  \\\n",
       "3        4   35           9     100     94112       1  2.700000          2   \n",
       "9       10   34           9     180     93023       1  8.900000          3   \n",
       "10      11   65          39     105     94710       4  2.400000          3   \n",
       "12      13   48          23     114     93106       2  3.800000          3   \n",
       "14      15   67          41     112     91741       1  2.000000          1   \n",
       "...    ...  ...         ...     ...       ...     ...       ...        ...   \n",
       "4984  4985   27           1      98     94043       4  2.300000          3   \n",
       "4986  4987   32           6      78     95825       1  2.900000          3   \n",
       "4988  4989   34           8      85     95134       1  2.500000          1   \n",
       "4993  4994   45          21     218     91801       2  6.666667          1   \n",
       "4994  4995   64          40      75     94588       3  2.000000          3   \n",
       "\n",
       "      Mortgage  Personal Loan  Securities Account  CD Account  Online  \\\n",
       "3            0              0                   0           0       0   \n",
       "9            0              1                   0           0       0   \n",
       "10           0              0                   0           0       0   \n",
       "12           0              0                   1           0       0   \n",
       "14           0              0                   1           0       0   \n",
       "...        ...            ...                 ...         ...     ...   \n",
       "4984         0              0                   0           0       0   \n",
       "4986         0              0                   0           0       0   \n",
       "4988       136              0                   0           0       0   \n",
       "4993         0              0                   0           0       1   \n",
       "4994         0              0                   0           0       1   \n",
       "\n",
       "      CreditCard  \n",
       "3              0  \n",
       "9              0  \n",
       "10             0  \n",
       "12             0  \n",
       "14             0  \n",
       "...          ...  \n",
       "4984           1  \n",
       "4986           0  \n",
       "4988           1  \n",
       "4993           0  \n",
       "4994           0  \n",
       "\n",
       "[1313 rows x 14 columns]"
      ]
     },
     "execution_count": 127,
     "metadata": {},
     "output_type": "execute_result"
    }
   ],
   "source": [
    "z=bank[(bank[\"Income\"]>=np.mean(bank[\"Income\"]))&(bank.CCAvg>np.mean(bank.CCAvg))] \n",
    "z"
   ]
  },
  {
   "cell_type": "code",
   "execution_count": 97,
   "id": "e1571a64",
   "metadata": {},
   "outputs": [
    {
     "data": {
      "text/plain": [
       "73.7742"
      ]
     },
     "execution_count": 97,
     "metadata": {},
     "output_type": "execute_result"
    }
   ],
   "source": [
    "np.mean(bank[\"Income\"])"
   ]
  },
  {
   "cell_type": "code",
   "execution_count": 98,
   "id": "640675c6",
   "metadata": {},
   "outputs": [
    {
     "data": {
      "text/plain": [
       "1.9379133333333332"
      ]
     },
     "execution_count": 98,
     "metadata": {},
     "output_type": "execute_result"
    }
   ],
   "source": [
    "np.mean(bank[\"CCAvg\"])"
   ]
  },
  {
   "cell_type": "markdown",
   "id": "e86eb91d",
   "metadata": {},
   "source": [
    "### 19. How many customers use online banking? Do customers using bank internet facilities have higher income?\n"
   ]
  },
  {
   "cell_type": "code",
   "execution_count": 99,
   "id": "89e035ae",
   "metadata": {},
   "outputs": [
    {
     "data": {
      "text/html": [
       "<div>\n",
       "<style scoped>\n",
       "    .dataframe tbody tr th:only-of-type {\n",
       "        vertical-align: middle;\n",
       "    }\n",
       "\n",
       "    .dataframe tbody tr th {\n",
       "        vertical-align: top;\n",
       "    }\n",
       "\n",
       "    .dataframe thead th {\n",
       "        text-align: right;\n",
       "    }\n",
       "</style>\n",
       "<table border=\"1\" class=\"dataframe\">\n",
       "  <thead>\n",
       "    <tr style=\"text-align: right;\">\n",
       "      <th></th>\n",
       "      <th>ID</th>\n",
       "      <th>Age</th>\n",
       "      <th>Experience</th>\n",
       "      <th>Income</th>\n",
       "      <th>ZIP Code</th>\n",
       "      <th>Family</th>\n",
       "      <th>CCAvg</th>\n",
       "      <th>Education</th>\n",
       "      <th>Mortgage</th>\n",
       "      <th>Personal Loan</th>\n",
       "      <th>Securities Account</th>\n",
       "      <th>CD Account</th>\n",
       "      <th>Online</th>\n",
       "      <th>CreditCard</th>\n",
       "    </tr>\n",
       "  </thead>\n",
       "  <tbody>\n",
       "    <tr>\n",
       "      <th>5</th>\n",
       "      <td>6</td>\n",
       "      <td>37</td>\n",
       "      <td>13</td>\n",
       "      <td>29</td>\n",
       "      <td>92121</td>\n",
       "      <td>4</td>\n",
       "      <td>0.4</td>\n",
       "      <td>2</td>\n",
       "      <td>155</td>\n",
       "      <td>0</td>\n",
       "      <td>0</td>\n",
       "      <td>0</td>\n",
       "      <td>1</td>\n",
       "      <td>0</td>\n",
       "    </tr>\n",
       "    <tr>\n",
       "      <th>6</th>\n",
       "      <td>7</td>\n",
       "      <td>53</td>\n",
       "      <td>27</td>\n",
       "      <td>72</td>\n",
       "      <td>91711</td>\n",
       "      <td>2</td>\n",
       "      <td>1.5</td>\n",
       "      <td>2</td>\n",
       "      <td>0</td>\n",
       "      <td>0</td>\n",
       "      <td>0</td>\n",
       "      <td>0</td>\n",
       "      <td>1</td>\n",
       "      <td>0</td>\n",
       "    </tr>\n",
       "    <tr>\n",
       "      <th>8</th>\n",
       "      <td>9</td>\n",
       "      <td>35</td>\n",
       "      <td>10</td>\n",
       "      <td>81</td>\n",
       "      <td>90089</td>\n",
       "      <td>3</td>\n",
       "      <td>0.6</td>\n",
       "      <td>2</td>\n",
       "      <td>104</td>\n",
       "      <td>0</td>\n",
       "      <td>0</td>\n",
       "      <td>0</td>\n",
       "      <td>1</td>\n",
       "      <td>0</td>\n",
       "    </tr>\n",
       "    <tr>\n",
       "      <th>11</th>\n",
       "      <td>12</td>\n",
       "      <td>29</td>\n",
       "      <td>5</td>\n",
       "      <td>45</td>\n",
       "      <td>90277</td>\n",
       "      <td>3</td>\n",
       "      <td>0.1</td>\n",
       "      <td>2</td>\n",
       "      <td>0</td>\n",
       "      <td>0</td>\n",
       "      <td>0</td>\n",
       "      <td>0</td>\n",
       "      <td>1</td>\n",
       "      <td>0</td>\n",
       "    </tr>\n",
       "    <tr>\n",
       "      <th>13</th>\n",
       "      <td>14</td>\n",
       "      <td>59</td>\n",
       "      <td>32</td>\n",
       "      <td>40</td>\n",
       "      <td>94920</td>\n",
       "      <td>4</td>\n",
       "      <td>2.5</td>\n",
       "      <td>2</td>\n",
       "      <td>0</td>\n",
       "      <td>0</td>\n",
       "      <td>0</td>\n",
       "      <td>0</td>\n",
       "      <td>1</td>\n",
       "      <td>0</td>\n",
       "    </tr>\n",
       "    <tr>\n",
       "      <th>...</th>\n",
       "      <td>...</td>\n",
       "      <td>...</td>\n",
       "      <td>...</td>\n",
       "      <td>...</td>\n",
       "      <td>...</td>\n",
       "      <td>...</td>\n",
       "      <td>...</td>\n",
       "      <td>...</td>\n",
       "      <td>...</td>\n",
       "      <td>...</td>\n",
       "      <td>...</td>\n",
       "      <td>...</td>\n",
       "      <td>...</td>\n",
       "      <td>...</td>\n",
       "    </tr>\n",
       "    <tr>\n",
       "      <th>4994</th>\n",
       "      <td>4995</td>\n",
       "      <td>64</td>\n",
       "      <td>40</td>\n",
       "      <td>75</td>\n",
       "      <td>94588</td>\n",
       "      <td>3</td>\n",
       "      <td>2.0</td>\n",
       "      <td>3</td>\n",
       "      <td>0</td>\n",
       "      <td>0</td>\n",
       "      <td>0</td>\n",
       "      <td>0</td>\n",
       "      <td>1</td>\n",
       "      <td>0</td>\n",
       "    </tr>\n",
       "    <tr>\n",
       "      <th>4995</th>\n",
       "      <td>4996</td>\n",
       "      <td>29</td>\n",
       "      <td>3</td>\n",
       "      <td>40</td>\n",
       "      <td>92697</td>\n",
       "      <td>1</td>\n",
       "      <td>1.9</td>\n",
       "      <td>3</td>\n",
       "      <td>0</td>\n",
       "      <td>0</td>\n",
       "      <td>0</td>\n",
       "      <td>0</td>\n",
       "      <td>1</td>\n",
       "      <td>0</td>\n",
       "    </tr>\n",
       "    <tr>\n",
       "      <th>4996</th>\n",
       "      <td>4997</td>\n",
       "      <td>30</td>\n",
       "      <td>4</td>\n",
       "      <td>15</td>\n",
       "      <td>92037</td>\n",
       "      <td>4</td>\n",
       "      <td>0.4</td>\n",
       "      <td>1</td>\n",
       "      <td>85</td>\n",
       "      <td>0</td>\n",
       "      <td>0</td>\n",
       "      <td>0</td>\n",
       "      <td>1</td>\n",
       "      <td>0</td>\n",
       "    </tr>\n",
       "    <tr>\n",
       "      <th>4998</th>\n",
       "      <td>4999</td>\n",
       "      <td>65</td>\n",
       "      <td>40</td>\n",
       "      <td>49</td>\n",
       "      <td>90034</td>\n",
       "      <td>3</td>\n",
       "      <td>0.5</td>\n",
       "      <td>2</td>\n",
       "      <td>0</td>\n",
       "      <td>0</td>\n",
       "      <td>0</td>\n",
       "      <td>0</td>\n",
       "      <td>1</td>\n",
       "      <td>0</td>\n",
       "    </tr>\n",
       "    <tr>\n",
       "      <th>4999</th>\n",
       "      <td>5000</td>\n",
       "      <td>28</td>\n",
       "      <td>4</td>\n",
       "      <td>83</td>\n",
       "      <td>92612</td>\n",
       "      <td>3</td>\n",
       "      <td>0.8</td>\n",
       "      <td>1</td>\n",
       "      <td>0</td>\n",
       "      <td>0</td>\n",
       "      <td>0</td>\n",
       "      <td>0</td>\n",
       "      <td>1</td>\n",
       "      <td>1</td>\n",
       "    </tr>\n",
       "  </tbody>\n",
       "</table>\n",
       "<p>2984 rows × 14 columns</p>\n",
       "</div>"
      ],
      "text/plain": [
       "        ID  Age  Experience  Income  ZIP Code  Family  CCAvg  Education  \\\n",
       "5        6   37          13      29     92121       4    0.4          2   \n",
       "6        7   53          27      72     91711       2    1.5          2   \n",
       "8        9   35          10      81     90089       3    0.6          2   \n",
       "11      12   29           5      45     90277       3    0.1          2   \n",
       "13      14   59          32      40     94920       4    2.5          2   \n",
       "...    ...  ...         ...     ...       ...     ...    ...        ...   \n",
       "4994  4995   64          40      75     94588       3    2.0          3   \n",
       "4995  4996   29           3      40     92697       1    1.9          3   \n",
       "4996  4997   30           4      15     92037       4    0.4          1   \n",
       "4998  4999   65          40      49     90034       3    0.5          2   \n",
       "4999  5000   28           4      83     92612       3    0.8          1   \n",
       "\n",
       "      Mortgage  Personal Loan  Securities Account  CD Account  Online  \\\n",
       "5          155              0                   0           0       1   \n",
       "6            0              0                   0           0       1   \n",
       "8          104              0                   0           0       1   \n",
       "11           0              0                   0           0       1   \n",
       "13           0              0                   0           0       1   \n",
       "...        ...            ...                 ...         ...     ...   \n",
       "4994         0              0                   0           0       1   \n",
       "4995         0              0                   0           0       1   \n",
       "4996        85              0                   0           0       1   \n",
       "4998         0              0                   0           0       1   \n",
       "4999         0              0                   0           0       1   \n",
       "\n",
       "      CreditCard  \n",
       "5              0  \n",
       "6              0  \n",
       "8              0  \n",
       "11             0  \n",
       "13             0  \n",
       "...          ...  \n",
       "4994           0  \n",
       "4995           0  \n",
       "4996           0  \n",
       "4998           0  \n",
       "4999           1  \n",
       "\n",
       "[2984 rows x 14 columns]"
      ]
     },
     "execution_count": 99,
     "metadata": {},
     "output_type": "execute_result"
    }
   ],
   "source": [
    "bank[bank.Online==1]"
   ]
  },
  {
   "cell_type": "code",
   "execution_count": 100,
   "id": "58fe8e56",
   "metadata": {},
   "outputs": [
    {
     "data": {
      "text/html": [
       "<div>\n",
       "<style scoped>\n",
       "    .dataframe tbody tr th:only-of-type {\n",
       "        vertical-align: middle;\n",
       "    }\n",
       "\n",
       "    .dataframe tbody tr th {\n",
       "        vertical-align: top;\n",
       "    }\n",
       "\n",
       "    .dataframe thead th {\n",
       "        text-align: right;\n",
       "    }\n",
       "</style>\n",
       "<table border=\"1\" class=\"dataframe\">\n",
       "  <thead>\n",
       "    <tr style=\"text-align: right;\">\n",
       "      <th></th>\n",
       "      <th>ID</th>\n",
       "      <th>Age</th>\n",
       "      <th>Experience</th>\n",
       "      <th>Income</th>\n",
       "      <th>ZIP Code</th>\n",
       "      <th>Family</th>\n",
       "      <th>CCAvg</th>\n",
       "      <th>Education</th>\n",
       "      <th>Mortgage</th>\n",
       "      <th>Personal Loan</th>\n",
       "      <th>Securities Account</th>\n",
       "      <th>CD Account</th>\n",
       "      <th>Online</th>\n",
       "      <th>CreditCard</th>\n",
       "    </tr>\n",
       "  </thead>\n",
       "  <tbody>\n",
       "    <tr>\n",
       "      <th>8</th>\n",
       "      <td>9</td>\n",
       "      <td>35</td>\n",
       "      <td>10</td>\n",
       "      <td>81</td>\n",
       "      <td>90089</td>\n",
       "      <td>3</td>\n",
       "      <td>0.600000</td>\n",
       "      <td>2</td>\n",
       "      <td>104</td>\n",
       "      <td>0</td>\n",
       "      <td>0</td>\n",
       "      <td>0</td>\n",
       "      <td>1</td>\n",
       "      <td>0</td>\n",
       "    </tr>\n",
       "    <tr>\n",
       "      <th>27</th>\n",
       "      <td>28</td>\n",
       "      <td>46</td>\n",
       "      <td>20</td>\n",
       "      <td>158</td>\n",
       "      <td>90064</td>\n",
       "      <td>1</td>\n",
       "      <td>2.400000</td>\n",
       "      <td>1</td>\n",
       "      <td>0</td>\n",
       "      <td>0</td>\n",
       "      <td>0</td>\n",
       "      <td>0</td>\n",
       "      <td>1</td>\n",
       "      <td>1</td>\n",
       "    </tr>\n",
       "    <tr>\n",
       "      <th>29</th>\n",
       "      <td>30</td>\n",
       "      <td>38</td>\n",
       "      <td>13</td>\n",
       "      <td>119</td>\n",
       "      <td>94104</td>\n",
       "      <td>1</td>\n",
       "      <td>3.300000</td>\n",
       "      <td>2</td>\n",
       "      <td>0</td>\n",
       "      <td>1</td>\n",
       "      <td>0</td>\n",
       "      <td>1</td>\n",
       "      <td>1</td>\n",
       "      <td>1</td>\n",
       "    </tr>\n",
       "    <tr>\n",
       "      <th>38</th>\n",
       "      <td>39</td>\n",
       "      <td>42</td>\n",
       "      <td>18</td>\n",
       "      <td>141</td>\n",
       "      <td>94114</td>\n",
       "      <td>3</td>\n",
       "      <td>5.000000</td>\n",
       "      <td>3</td>\n",
       "      <td>0</td>\n",
       "      <td>1</td>\n",
       "      <td>1</td>\n",
       "      <td>1</td>\n",
       "      <td>1</td>\n",
       "      <td>0</td>\n",
       "    </tr>\n",
       "    <tr>\n",
       "      <th>39</th>\n",
       "      <td>40</td>\n",
       "      <td>38</td>\n",
       "      <td>13</td>\n",
       "      <td>80</td>\n",
       "      <td>94115</td>\n",
       "      <td>4</td>\n",
       "      <td>0.700000</td>\n",
       "      <td>3</td>\n",
       "      <td>285</td>\n",
       "      <td>0</td>\n",
       "      <td>0</td>\n",
       "      <td>0</td>\n",
       "      <td>1</td>\n",
       "      <td>0</td>\n",
       "    </tr>\n",
       "    <tr>\n",
       "      <th>...</th>\n",
       "      <td>...</td>\n",
       "      <td>...</td>\n",
       "      <td>...</td>\n",
       "      <td>...</td>\n",
       "      <td>...</td>\n",
       "      <td>...</td>\n",
       "      <td>...</td>\n",
       "      <td>...</td>\n",
       "      <td>...</td>\n",
       "      <td>...</td>\n",
       "      <td>...</td>\n",
       "      <td>...</td>\n",
       "      <td>...</td>\n",
       "      <td>...</td>\n",
       "    </tr>\n",
       "    <tr>\n",
       "      <th>4980</th>\n",
       "      <td>4981</td>\n",
       "      <td>29</td>\n",
       "      <td>5</td>\n",
       "      <td>135</td>\n",
       "      <td>95762</td>\n",
       "      <td>3</td>\n",
       "      <td>5.300000</td>\n",
       "      <td>1</td>\n",
       "      <td>0</td>\n",
       "      <td>1</td>\n",
       "      <td>0</td>\n",
       "      <td>1</td>\n",
       "      <td>1</td>\n",
       "      <td>1</td>\n",
       "    </tr>\n",
       "    <tr>\n",
       "      <th>4981</th>\n",
       "      <td>4982</td>\n",
       "      <td>34</td>\n",
       "      <td>9</td>\n",
       "      <td>195</td>\n",
       "      <td>90266</td>\n",
       "      <td>2</td>\n",
       "      <td>3.000000</td>\n",
       "      <td>1</td>\n",
       "      <td>122</td>\n",
       "      <td>0</td>\n",
       "      <td>0</td>\n",
       "      <td>0</td>\n",
       "      <td>1</td>\n",
       "      <td>0</td>\n",
       "    </tr>\n",
       "    <tr>\n",
       "      <th>4993</th>\n",
       "      <td>4994</td>\n",
       "      <td>45</td>\n",
       "      <td>21</td>\n",
       "      <td>218</td>\n",
       "      <td>91801</td>\n",
       "      <td>2</td>\n",
       "      <td>6.666667</td>\n",
       "      <td>1</td>\n",
       "      <td>0</td>\n",
       "      <td>0</td>\n",
       "      <td>0</td>\n",
       "      <td>0</td>\n",
       "      <td>1</td>\n",
       "      <td>0</td>\n",
       "    </tr>\n",
       "    <tr>\n",
       "      <th>4994</th>\n",
       "      <td>4995</td>\n",
       "      <td>64</td>\n",
       "      <td>40</td>\n",
       "      <td>75</td>\n",
       "      <td>94588</td>\n",
       "      <td>3</td>\n",
       "      <td>2.000000</td>\n",
       "      <td>3</td>\n",
       "      <td>0</td>\n",
       "      <td>0</td>\n",
       "      <td>0</td>\n",
       "      <td>0</td>\n",
       "      <td>1</td>\n",
       "      <td>0</td>\n",
       "    </tr>\n",
       "    <tr>\n",
       "      <th>4999</th>\n",
       "      <td>5000</td>\n",
       "      <td>28</td>\n",
       "      <td>4</td>\n",
       "      <td>83</td>\n",
       "      <td>92612</td>\n",
       "      <td>3</td>\n",
       "      <td>0.800000</td>\n",
       "      <td>1</td>\n",
       "      <td>0</td>\n",
       "      <td>0</td>\n",
       "      <td>0</td>\n",
       "      <td>0</td>\n",
       "      <td>1</td>\n",
       "      <td>1</td>\n",
       "    </tr>\n",
       "  </tbody>\n",
       "</table>\n",
       "<p>1296 rows × 14 columns</p>\n",
       "</div>"
      ],
      "text/plain": [
       "        ID  Age  Experience  Income  ZIP Code  Family     CCAvg  Education  \\\n",
       "8        9   35          10      81     90089       3  0.600000          2   \n",
       "27      28   46          20     158     90064       1  2.400000          1   \n",
       "29      30   38          13     119     94104       1  3.300000          2   \n",
       "38      39   42          18     141     94114       3  5.000000          3   \n",
       "39      40   38          13      80     94115       4  0.700000          3   \n",
       "...    ...  ...         ...     ...       ...     ...       ...        ...   \n",
       "4980  4981   29           5     135     95762       3  5.300000          1   \n",
       "4981  4982   34           9     195     90266       2  3.000000          1   \n",
       "4993  4994   45          21     218     91801       2  6.666667          1   \n",
       "4994  4995   64          40      75     94588       3  2.000000          3   \n",
       "4999  5000   28           4      83     92612       3  0.800000          1   \n",
       "\n",
       "      Mortgage  Personal Loan  Securities Account  CD Account  Online  \\\n",
       "8          104              0                   0           0       1   \n",
       "27           0              0                   0           0       1   \n",
       "29           0              1                   0           1       1   \n",
       "38           0              1                   1           1       1   \n",
       "39         285              0                   0           0       1   \n",
       "...        ...            ...                 ...         ...     ...   \n",
       "4980         0              1                   0           1       1   \n",
       "4981       122              0                   0           0       1   \n",
       "4993         0              0                   0           0       1   \n",
       "4994         0              0                   0           0       1   \n",
       "4999         0              0                   0           0       1   \n",
       "\n",
       "      CreditCard  \n",
       "8              0  \n",
       "27             1  \n",
       "29             1  \n",
       "38             0  \n",
       "39             0  \n",
       "...          ...  \n",
       "4980           1  \n",
       "4981           0  \n",
       "4993           0  \n",
       "4994           0  \n",
       "4999           1  \n",
       "\n",
       "[1296 rows x 14 columns]"
      ]
     },
     "execution_count": 100,
     "metadata": {},
     "output_type": "execute_result"
    }
   ],
   "source": [
    "bank[(bank.Online==1)&(bank.Income>=np.mean(bank.Income))]"
   ]
  },
  {
   "cell_type": "markdown",
   "id": "d1d21f86",
   "metadata": {},
   "source": [
    "### 20.Using the z-score of the income variable, find out the number of observations outside the +-3σ."
   ]
  },
  {
   "cell_type": "code",
   "execution_count": 101,
   "id": "dffa03b0",
   "metadata": {},
   "outputs": [
    {
     "data": {
      "text/plain": [
       "73.7742"
      ]
     },
     "execution_count": 101,
     "metadata": {},
     "output_type": "execute_result"
    }
   ],
   "source": [
    "x=np.mean(bank[\"Income\"])\n",
    "x"
   ]
  },
  {
   "cell_type": "code",
   "execution_count": 102,
   "id": "fe60c639",
   "metadata": {},
   "outputs": [
    {
     "data": {
      "text/plain": [
       "46.02912571796256"
      ]
     },
     "execution_count": 102,
     "metadata": {},
     "output_type": "execute_result"
    }
   ],
   "source": [
    "y=np.std(bank[\"Income\"])\n",
    "y"
   ]
  },
  {
   "cell_type": "code",
   "execution_count": 103,
   "id": "87dbcdbd",
   "metadata": {},
   "outputs": [
    {
     "data": {
      "text/plain": [
       "0      -0.538229\n",
       "1      -0.864109\n",
       "2      -1.363793\n",
       "3       0.569765\n",
       "4      -0.625130\n",
       "          ...   \n",
       "4995   -0.733757\n",
       "4996   -1.276892\n",
       "4997   -1.081363\n",
       "4998   -0.538229\n",
       "4999    0.200434\n",
       "Name: Income, Length: 5000, dtype: float64"
      ]
     },
     "execution_count": 103,
     "metadata": {},
     "output_type": "execute_result"
    }
   ],
   "source": [
    "z_scores = (bank.Income - x) / y\n",
    "z_scores"
   ]
  },
  {
   "cell_type": "code",
   "execution_count": 104,
   "id": "cab8c405",
   "metadata": {},
   "outputs": [
    {
     "name": "stdout",
     "output_type": "stream",
     "text": [
      "Number of observations outside +-3σ: 2\n"
     ]
    }
   ],
   "source": [
    "outside_3_sigma = np.sum(np.abs(z_scores) > 3)\n",
    "print(f\"Number of observations outside +-3σ: {outside_3_sigma}\")"
   ]
  },
  {
   "cell_type": "code",
   "execution_count": null,
   "id": "1a1a054f",
   "metadata": {},
   "outputs": [],
   "source": []
  },
  {
   "cell_type": "code",
   "execution_count": null,
   "id": "05ccc0c2",
   "metadata": {},
   "outputs": [],
   "source": []
  },
  {
   "cell_type": "code",
   "execution_count": 27,
   "id": "1d322384",
   "metadata": {},
   "outputs": [
    {
     "data": {
      "text/plain": [
       "2.3060909686210462"
      ]
     },
     "execution_count": 27,
     "metadata": {},
     "output_type": "execute_result"
    }
   ],
   "source": [
    "\n"
   ]
  },
  {
   "cell_type": "code",
   "execution_count": null,
   "id": "07a104fe",
   "metadata": {},
   "outputs": [],
   "source": []
  },
  {
   "cell_type": "code",
   "execution_count": null,
   "id": "927b8d55",
   "metadata": {},
   "outputs": [],
   "source": []
  },
  {
   "cell_type": "code",
   "execution_count": null,
   "id": "a6be3da7",
   "metadata": {},
   "outputs": [],
   "source": []
  },
  {
   "cell_type": "code",
   "execution_count": null,
   "id": "3c255c00",
   "metadata": {},
   "outputs": [],
   "source": []
  },
  {
   "cell_type": "code",
   "execution_count": null,
   "id": "ef537d8f",
   "metadata": {},
   "outputs": [],
   "source": []
  }
 ],
 "metadata": {
  "kernelspec": {
   "display_name": "Python 3 (ipykernel)",
   "language": "python",
   "name": "python3"
  },
  "language_info": {
   "codemirror_mode": {
    "name": "ipython",
    "version": 3
   },
   "file_extension": ".py",
   "mimetype": "text/x-python",
   "name": "python",
   "nbconvert_exporter": "python",
   "pygments_lexer": "ipython3",
   "version": "3.11.4"
  }
 },
 "nbformat": 4,
 "nbformat_minor": 5
}
